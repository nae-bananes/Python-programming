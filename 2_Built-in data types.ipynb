{
 "cells": [
  {
   "cell_type": "markdown",
   "metadata": {},
   "source": [
    "# 2. Built-in Data types\n",
    "\n",
    "- Every object has an identity (ID), a type, and a value."
   ]
  },
  {
   "cell_type": "markdown",
   "metadata": {},
   "source": [
    "## (1) Mutability"
   ]
  },
  {
   "cell_type": "markdown",
   "metadata": {},
   "source": [
    " i. Example of an immutable object:"
   ]
  },
  {
   "cell_type": "code",
   "execution_count": 1,
   "metadata": {},
   "outputs": [
    {
     "name": "stdout",
     "output_type": "stream",
     "text": [
      "4378226536\n",
      "4378226568\n"
     ]
    }
   ],
   "source": [
    "age = 42\n",
    "print(id(age))\n",
    "\n",
    "age = 43\n",
    "print(id(age))"
   ]
  },
  {
   "cell_type": "markdown",
   "metadata": {},
   "source": [
    "So, in fact, we did not change 42 to 43—we just pointed the name age to a different location, which is the new int object whose value is 43."
   ]
  },
  {
   "cell_type": "markdown",
   "metadata": {},
   "source": [
    "ii. Example of a mutable object (Set):"
   ]
  },
  {
   "cell_type": "code",
   "execution_count": 3,
   "metadata": {},
   "outputs": [
    {
     "name": "stdout",
     "output_type": "stream",
     "text": [
      "4449336256\n",
      "set()\n",
      "4449336256\n",
      "{3, 7}\n"
     ]
    }
   ],
   "source": [
    "numbers = set()\n",
    "print(id(numbers))\n",
    "print(numbers)\n",
    "numbers.add(3)\n",
    "numbers.add(7)\n",
    "\n",
    "print(id(numbers))\n",
    "print(numbers)\n"
   ]
  },
  {
   "cell_type": "markdown",
   "metadata": {},
   "source": [
    "## (2) Numbers\n",
    "\n",
    "Numbers are immutable objects.\n",
    "\n",
    " - Integer: Positive, negative or 0.\n",
    " - Boolean: True(1) or False(0)"
   ]
  },
  {
   "cell_type": "markdown",
   "metadata": {},
   "source": [
    "### i. Integers"
   ]
  },
  {
   "cell_type": "code",
   "execution_count": 7,
   "metadata": {},
   "outputs": [
    {
     "name": "stdout",
     "output_type": "stream",
     "text": [
      "4.666666666666667\n",
      "4\n",
      "4\n",
      "-1.75\n",
      "-2\n",
      "-1\n"
     ]
    }
   ],
   "source": [
    "# Integer object's operand \n",
    "a = 14\n",
    "b = 3\n",
    "print(a/b)\n",
    "print(a//b) # Floor value of the division : Integer division in Python is always rounded toward minus infinity. \n",
    "print(int(a/b)) # Truncation toward zero\n",
    "\n",
    "c = -7\n",
    "d = 4\n",
    "print(c/d)\n",
    "print(c//d)\n",
    "print(int(c/d))"
   ]
  },
  {
   "cell_type": "code",
   "execution_count": 9,
   "metadata": {},
   "outputs": [
    {
     "name": "stdout",
     "output_type": "stream",
     "text": [
      "22\n",
      "710\n"
     ]
    }
   ],
   "source": [
    "print(int('10110', base=2))\n",
    "print(int('1011000110', base=2))"
   ]
  },
  {
   "cell_type": "markdown",
   "metadata": {},
   "source": [
    "- We can use '_' to make the number more readable:"
   ]
  },
  {
   "cell_type": "code",
   "execution_count": 14,
   "metadata": {},
   "outputs": [
    {
     "name": "stdout",
     "output_type": "stream",
     "text": [
      "36\n"
     ]
    },
    {
     "data": {
      "text/plain": [
       "36"
      ]
     },
     "execution_count": 14,
     "metadata": {},
     "output_type": "execute_result"
    }
   ],
   "source": [
    "print(pow(37, 2, 43))\n",
    "(37**(2))%43"
   ]
  },
  {
   "cell_type": "code",
   "execution_count": 15,
   "metadata": {},
   "outputs": [
    {
     "data": {
      "text/plain": [
       "102400000"
      ]
     },
     "execution_count": 15,
     "metadata": {},
     "output_type": "execute_result"
    }
   ],
   "source": [
    "1_024 * 100_000"
   ]
  },
  {
   "cell_type": "markdown",
   "metadata": {},
   "source": [
    "### ii. Booleans"
   ]
  },
  {
   "cell_type": "code",
   "execution_count": 20,
   "metadata": {},
   "outputs": [
    {
     "name": "stdout",
     "output_type": "stream",
     "text": [
      "1\n",
      "0\n",
      "True\n",
      "True\n",
      "False\n",
      "35\n",
      "42\n",
      "53\n"
     ]
    }
   ],
   "source": [
    "print(int(True))\n",
    "print(int(False))\n",
    "print(bool(24))\n",
    "print(bool(1))\n",
    "print(bool(0))\n",
    "print(34+True) # Python upcasts these boolean values to integers and performs the addition\n",
    "print(42-False)\n",
    "print(54-True)"
   ]
  },
  {
   "cell_type": "markdown",
   "metadata": {},
   "source": [
    "**Upcasting** is a type conversion operation that goes from a subclass to its parent. In this example, True and False, which belong to a class derived from the integer class, are converted back to integers when needed. This topic is about **inheritance** and will be explained in detail in Chapter 6, OOP, Decorators, and Iterators."
   ]
  },
  {
   "cell_type": "markdown",
   "metadata": {},
   "source": [
    "### iii. Floats\n",
    "\n",
    "Real numbers, or floating point numbers, are represented in Python according to the **IEEE 754 double-precision binary floating point format**, which stores them in 64 bits of information divided into three sections: **sign, exponent, and mantissa**.\n",
    "\n",
    "Several programming languages offer two different formats: single and double precision. The former takes up 32 bits of memory, the latter 64. Python supports only the double format. "
   ]
  },
  {
   "cell_type": "code",
   "execution_count": 22,
   "metadata": {},
   "outputs": [
    {
     "data": {
      "text/plain": [
       "63.617251235400005"
      ]
     },
     "execution_count": 22,
     "metadata": {},
     "output_type": "execute_result"
    }
   ],
   "source": [
    "pi = 3.1415926536  # how many digits of PI can you remember?\n",
    "radius = 4.5\n",
    "area = pi * (radius ** 2)\n",
    "area"
   ]
  },
  {
   "cell_type": "code",
   "execution_count": 24,
   "metadata": {},
   "outputs": [
    {
     "data": {
      "text/plain": [
       "sys.float_info(max=1.7976931348623157e+308, max_exp=1024, max_10_exp=308, min=2.2250738585072014e-308, min_exp=-1021, min_10_exp=-307, dig=15, mant_dig=53, epsilon=2.220446049250313e-16, radix=2, rounds=1)"
      ]
     },
     "execution_count": 24,
     "metadata": {},
     "output_type": "execute_result"
    }
   ],
   "source": [
    "import sys\n",
    "sys.float_info"
   ]
  },
  {
   "cell_type": "code",
   "execution_count": 25,
   "metadata": {},
   "outputs": [
    {
     "data": {
      "text/plain": [
       "-5.551115123125783e-17"
      ]
     },
     "execution_count": 25,
     "metadata": {},
     "output_type": "execute_result"
    }
   ],
   "source": [
    "0.3 - 0.1 * 3"
   ]
  },
  {
   "cell_type": "markdown",
   "metadata": {},
   "source": [
    "## (3) Immutable sequences : Strings, Tuples, and Bytes\n",
    "\n",
    "### i. Strings and Bytes\n",
    "\n",
    "- **Strings**: Textual data in Python is handled with str objects, more commonly known as strings. They are immutable sequences of Unicode code points. Unicode code points are the numbers assigned to each character in the Unicode standard, which is a universal character encoding scheme used to represent text in computers. \n",
    "Unlike other languages, Python does not have a char type, so a single character is represented by a string of length 1.\n",
    "The result of an encoding produces a bytes object, whose syntax and behavior are similar to that of strings. \n"
   ]
  },
  {
   "cell_type": "markdown",
   "metadata": {},
   "source": [
    "- String and REPR:"
   ]
  },
  {
   "cell_type": "code",
   "execution_count": 30,
   "metadata": {},
   "outputs": [
    {
     "name": "stdout",
     "output_type": "stream",
     "text": [
      "what \n",
      "is\n",
      "the difference?\n",
      "'what \\nis\\nthe difference?'\n"
     ]
    }
   ],
   "source": [
    "print(str(\"what \\nis\\nthe difference?\"))\n",
    "print(repr(\"what \\nis\\nthe difference?\"))\n",
    "\n",
    " # the Python repr() function returns a printable representation of the object by converting that object to a string."
   ]
  },
  {
   "cell_type": "markdown",
   "metadata": {},
   "source": [
    "- New functions for String: Removeprefix and Removesuffix"
   ]
  },
  {
   "cell_type": "code",
   "execution_count": 42,
   "metadata": {},
   "outputs": [
    {
     "name": "stdout",
     "output_type": "stream",
     "text": [
      "o There\n",
      "Hello T\n"
     ]
    }
   ],
   "source": [
    "s = \"Hello There\"\n",
    "print(s.removeprefix(\"Hell\"))\n",
    "print(s.removesuffix(\"here\"))"
   ]
  },
  {
   "cell_type": "markdown",
   "metadata": {},
   "source": [
    "- Unicode encoding and other encodings, and Bytes objects"
   ]
  },
  {
   "cell_type": "code",
   "execution_count": 40,
   "metadata": {},
   "outputs": [
    {
     "name": "stdout",
     "output_type": "stream",
     "text": [
      "<class 'str'>\n",
      "b'This is \\xc3\\xbc\\xc5\\x8b\\xc3\\xadc0de string.'\n",
      "<class 'bytes'>\n",
      "This is üŋíc0de string.\n",
      "<class 'bytes'>\n"
     ]
    }
   ],
   "source": [
    "s = \"This is üŋíc0de string.\"\n",
    "print(type(s))\n",
    "encoded_s = s.encode(\"utf-8\")\n",
    "print(encoded_s)\n",
    "print(type(encoded_s))\n",
    "print(encoded_s.decode(\"utf-8\"))\n",
    "bytes_obj = b\"A bytes object\" # We can create a byte object with 'b' in front of a string\n",
    "print(type(bytes_obj))"
   ]
  },
  {
   "cell_type": "markdown",
   "metadata": {},
   "source": [
    "- Indexing and slicing strings\n",
    "\n",
    "While indexing comes in one form—zero-based access to any position within the sequence—slicing comes in different forms. \n",
    "\n",
    "my_sequence[start:stop:step]. All the arguments are optional; start is inclusive, and stop is exclusive."
   ]
  },
  {
   "cell_type": "code",
   "execution_count": null,
   "metadata": {},
   "outputs": [
    {
     "name": "stdout",
     "output_type": "stream",
     "text": [
      "T\n",
      "The \n",
      "trouble is you think you have time.\n",
      "e trouble is\n",
      "etobei\n",
      "The trouble is you think you have time.\n",
      ".emit evah uoy kniht uoy si elbuort ehT\n"
     ]
    }
   ],
   "source": [
    "s = \"The trouble is you think you have time.\"\n",
    "print(s[0])\n",
    "print(s[:4])\n",
    "print(s[4:])\n",
    "print(s[2:14])\n",
    "print(s[2:14:2])\n",
    "print(s[:])\n",
    "print(s[::-1]) # Reversed copy of a string using slicing"
   ]
  },
  {
   "cell_type": "markdown",
   "metadata": {},
   "source": [
    "- String formatting\n",
    "\n",
    "One useful feature of strings is that they can be used as templates. This means that they can contain placeholders that can be replaced by arbitrary values using formatting operations. There are several ways of formatting a string. "
   ]
  },
  {
   "cell_type": "code",
   "execution_count": 52,
   "metadata": {},
   "outputs": [
    {
     "name": "stdout",
     "output_type": "stream",
     "text": [
      "1. Hello Fabrizio!\n",
      "2. Hello Fabrizio!\n",
      "3. Hello Fabrizio Romano!\n",
      "4. This is Python! Heinrich loves Python!\n",
      "5. This is Coffee! Fab loves Coffee!\n",
      "6. Hello, my name is Fabrizio Romano\n"
     ]
    }
   ],
   "source": [
    "greet_old = \"Hello %s!\"\n",
    "print(\"1. \"+greet_old % 'Fabrizio')\n",
    "\n",
    "greet_positional = \"Hello {}!\"\n",
    "print(\"2. \"+greet_positional.format(\"Fabrizio\"))\n",
    "\n",
    "greet_positional = \"Hello {} {}!\"\n",
    "print(\"3. \"+greet_positional.format(\"Fabrizio\", \"Romano\"))\n",
    "\n",
    "greet_positional_idx = \"This is {0}! {1} loves {0}!\"\n",
    "print(\"4. \"+greet_positional_idx.format(\"Python\", \"Heinrich\"))\n",
    "print(\"5. \"+greet_positional_idx.format(\"Coffee\", \"Fab\"))\n",
    "\n",
    "keyword = \"Hello, my name is {name} {last_name}\"\n",
    "print(\"6. \"+keyword.format(name=\"Fabrizio\", last_name=\"Romano\"))"
   ]
  },
  {
   "cell_type": "markdown",
   "metadata": {},
   "source": [
    "Replacement fields are expressions evaluated at runtime, and then formatted using the format protocol:"
   ]
  },
  {
   "cell_type": "code",
   "execution_count": 53,
   "metadata": {},
   "outputs": [
    {
     "data": {
      "text/plain": [
       "\"Hello! My name is Fab and I'm 48\""
      ]
     },
     "execution_count": 53,
     "metadata": {},
     "output_type": "execute_result"
    }
   ],
   "source": [
    "name = \"Fab\"\n",
    "age = 48\n",
    "f\"Hello! My name is {name} and I'm {age}\""
   ]
  },
  {
   "cell_type": "markdown",
   "metadata": {},
   "source": [
    "An interesting addition to f-strings, which was introduced in Python 3.8, is the ability to add an equal sign specifier within the f-string clause; this causes the expression to expand to the text of the expression, an equal sign, then the representation of the evaluated expression. "
   ]
  },
  {
   "cell_type": "code",
   "execution_count": 55,
   "metadata": {},
   "outputs": [
    {
     "name": "stdout",
     "output_type": "stream",
     "text": [
      "Log in with: heinrich and super-secret\n",
      "Log in with: user='heinrich' and password='super-secret'\n"
     ]
    }
   ],
   "source": [
    "user = \"heinrich\"\n",
    "password = \"super-secret\"\n",
    "print(f\"Log in with: {user} and {password}\")\n",
    "print(f\"Log in with: {user=} and {password=}\")"
   ]
  },
  {
   "cell_type": "code",
   "execution_count": 56,
   "metadata": {},
   "outputs": [
    {
     "name": "stdout",
     "output_type": "stream",
     "text": [
      "Python, Javascript\n"
     ]
    },
    {
     "data": {
      "text/plain": [
       "'Two very popular languages: Python, Javascript'"
      ]
     },
     "execution_count": 56,
     "metadata": {},
     "output_type": "execute_result"
    }
   ],
   "source": [
    "languages = [\"Python\", \"Javascript\"]\n",
    "print(\", \".join(languages))\n",
    "f\"Two very popular languages: {\", \".join(languages)}\""
   ]
  },
  {
   "cell_type": "code",
   "execution_count": 57,
   "metadata": {},
   "outputs": [
    {
     "data": {
      "text/plain": [
       "'Who knew f-strings could be so powerful? 🤷'"
      ]
     },
     "execution_count": 57,
     "metadata": {},
     "output_type": "execute_result"
    }
   ],
   "source": [
    "f\"Who knew f-strings could be so powerful? {\"\\N{shrug}\"}\""
   ]
  },
  {
   "cell_type": "markdown",
   "metadata": {},
   "source": [
    "### ii. Tuples\n",
    "\n",
    "The last immutable sequence type we are going to look at here is the tuple. A tuple is a sequence of arbitrary Python objects. In a tuple declaration, items are separated by commas. \n",
    "\n",
    "Tuples are used everywhere in Python. \n",
    "\n",
    "Sometimes tuples are used without parentheses; for example, to set up multiple variables on one line, or to allow a function to return multiple objects (in several languages, it is common for functions to only be able to return one object), and in the Python console, tuples can be used implicitly to print multiple elements with one single instruction."
   ]
  },
  {
   "cell_type": "code",
   "execution_count": 58,
   "metadata": {},
   "outputs": [
    {
     "data": {
      "text/plain": [
       "tuple"
      ]
     },
     "execution_count": 58,
     "metadata": {},
     "output_type": "execute_result"
    }
   ],
   "source": [
    "t = ()\n",
    "type(t)"
   ]
  },
  {
   "cell_type": "code",
   "execution_count": 63,
   "metadata": {},
   "outputs": [
    {
     "name": "stdout",
     "output_type": "stream",
     "text": [
      "1\n",
      "1 2 3\n"
     ]
    },
    {
     "data": {
      "text/plain": [
       "False"
      ]
     },
     "execution_count": 63,
     "metadata": {},
     "output_type": "execute_result"
    }
   ],
   "source": [
    "one_element_tuple = (42,)\n",
    "a, b, c = 1, 2, 3 # tuple for multiple assignment\n",
    "print(a)\n",
    "print(a,b,c)\n",
    "3 in one_element_tuple"
   ]
  },
  {
   "cell_type": "markdown",
   "metadata": {},
   "source": [
    "We use the in operator to check whether a value is a member of a tuple. This membership operator can also be used with lists, strings, and dictionaries, and with collection and sequence objects, in general."
   ]
  },
  {
   "cell_type": "code",
   "execution_count": 64,
   "metadata": {},
   "outputs": [
    {
     "data": {
      "text/plain": [
       "(5, 1)"
      ]
     },
     "execution_count": 64,
     "metadata": {},
     "output_type": "execute_result"
    }
   ],
   "source": [
    "# One-line swap in Pythonic way:\n",
    "a, b = 1, 5\n",
    "a, b = b, a\n",
    "a, b"
   ]
  },
  {
   "cell_type": "markdown",
   "metadata": {},
   "source": [
    "Because they are immutable, tuples can be used as keys for dictionaries (we will see this shortly).\n",
    "\n",
    "To us, tuples are Python’s built-in data that most closely represent a mathematical vector. This does not mean that this was the reason for which they were created, though. \n",
    "\n",
    "Tuples usually contain a heterogeneous sequence of elements while, on the other hand, lists are, most of the time, homogeneous. \n",
    "\n",
    "Moreover, tuples are normally accessed via unpacking or indexing, while lists are usually iterated over."
   ]
  },
  {
   "cell_type": "markdown",
   "metadata": {},
   "source": [
    "## (4) Mutable sequences : Lists and Bytearrays"
   ]
  },
  {
   "cell_type": "markdown",
   "metadata": {},
   "source": [
    "### i. Lists"
   ]
  },
  {
   "cell_type": "code",
   "execution_count": 65,
   "metadata": {},
   "outputs": [
    {
     "data": {
      "text/plain": [
       "[1, 3, 5, 7, 9]"
      ]
     },
     "execution_count": 65,
     "metadata": {},
     "output_type": "execute_result"
    }
   ],
   "source": [
    "list((1, 3, 5, 7, 9))  # list from a tuple"
   ]
  },
  {
   "cell_type": "code",
   "execution_count": 66,
   "metadata": {},
   "outputs": [
    {
     "data": {
      "text/plain": [
       "['h', 'e', 'l', 'l', 'o']"
      ]
     },
     "execution_count": 66,
     "metadata": {},
     "output_type": "execute_result"
    }
   ],
   "source": [
    "list(\"hello\") # list from a string"
   ]
  },
  {
   "cell_type": "markdown",
   "metadata": {},
   "source": [
    "- Main functionalities of a list:"
   ]
  },
  {
   "cell_type": "code",
   "execution_count": 80,
   "metadata": {},
   "outputs": [
    {
     "name": "stdout",
     "output_type": "stream",
     "text": [
      "[1, 2, 1, 3, 13]\n",
      "2\n",
      "[1, 2, 1, 3, 13, 57, 5]\n",
      "5\n",
      "[1, 2, 1, 17, 3, 13, 57, 5]\n",
      "5\n",
      "[1, 2, 1, 17, 3, 13, 57]\n",
      "17\n",
      "[1, 2, 1, 3, 13, 57]\n",
      "[1, 2, 1, 3, 57]\n",
      "[57, 3, 1, 2, 1]\n",
      "[1, 1, 2, 3, 57]\n",
      "[]\n"
     ]
    }
   ],
   "source": [
    "a = [1, 2, 1, 3]\n",
    "a.append(13)\n",
    "print(a)\n",
    "print(a.count(1))\n",
    "a.extend([57, 5])\n",
    "print(a)\n",
    "print(a.index(57))  # position of `57` in the list (0-based indexing)\n",
    "a.insert(3, 17)\n",
    "print(a)\n",
    "print(a.pop())\n",
    "print(a)\n",
    "print(a.pop(3))\n",
    "print(a)\n",
    "a.remove(13)\n",
    "print(a)\n",
    "a.reverse()\n",
    "print(a)\n",
    "a.sort()\n",
    "print(a)\n",
    "a.clear()\n",
    "print(a)"
   ]
  },
  {
   "cell_type": "code",
   "execution_count": 87,
   "metadata": {},
   "outputs": [
    {
     "name": "stdout",
     "output_type": "stream",
     "text": [
      "[1, 3, 5, 11, 22]\n",
      "[1, 3, 5, 1, 3, 5]\n",
      "15\n",
      "9\n"
     ]
    }
   ],
   "source": [
    "a = [1,3,5]\n",
    "b = [11,22]\n",
    "print(a+b)\n",
    "print(a*2)\n",
    "from math import prod\n",
    "print(prod(a))\n",
    "print(sum(a))"
   ]
  },
  {
   "cell_type": "code",
   "execution_count": 89,
   "metadata": {},
   "outputs": [
    {
     "name": "stdout",
     "output_type": "stream",
     "text": [
      "[(1, 2), (1, 3), (2, -1), (4, 9), (5, 3)]\n",
      "[(1, 3), (1, 2), (2, -1), (4, 9), (5, 3)]\n",
      "[(1, 2), (1, 3), (2, -1), (4, 9), (5, 3)]\n",
      "[(2, -1), (1, 2), (5, 3), (1, 3), (4, 9)]\n",
      "[(4, 9), (5, 3), (1, 3), (1, 2), (2, -1)]\n"
     ]
    }
   ],
   "source": [
    "from operator import itemgetter\n",
    "a = [(5, 3), (1, 3), (1, 2), (2, -1), (4, 9)]\n",
    "print(sorted(a))\n",
    "print(sorted(a, key=itemgetter(0)))\n",
    "print(sorted(a, key=itemgetter(0, 1)))\n",
    "print(sorted(a, key=itemgetter(1)))\n",
    "print(sorted(a, key=itemgetter(1), reverse=True))"
   ]
  },
  {
   "cell_type": "markdown",
   "metadata": {},
   "source": [
    "### ii. Bytearrays\n",
    "\n",
    "Items in a bytearray are integers in the range [0, 256)."
   ]
  },
  {
   "cell_type": "code",
   "execution_count": 6,
   "metadata": {},
   "outputs": [
    {
     "name": "stdout",
     "output_type": "stream",
     "text": [
      "bytearray(b'lina')\n",
      "True\n",
      "bytearray(b'LINA')\n"
     ]
    }
   ],
   "source": [
    "name = bytearray(b\"Lina\")\n",
    "print(name.replace(b\"L\", b\"l\"))\n",
    "print(name.endswith(b'na'))\n",
    "print(name.upper())\n"
   ]
  },
  {
   "cell_type": "markdown",
   "metadata": {},
   "source": [
    "## (5) Set types: Set (Mutable), Frozenset (Immutable)\n",
    "\n",
    "- **Hashability** is a characteristic that allows an object to be used as a set member as well as a key for a dictionary, as we will see very soon. An object is hashable if it has a hash value which never changes during its lifetime, and can be compared to other objects. "
   ]
  },
  {
   "cell_type": "code",
   "execution_count": 20,
   "metadata": {},
   "outputs": [
    {
     "name": "stdout",
     "output_type": "stream",
     "text": [
      "{2, 5}\n",
      "False\n",
      "{2, 5, 7, 11, 13}\n",
      "{5}\n"
     ]
    },
    {
     "data": {
      "text/plain": [
       "{2}"
      ]
     },
     "execution_count": 20,
     "metadata": {},
     "output_type": "execute_result"
    }
   ],
   "source": [
    "small_primes = set()\n",
    "small_primes.add(2)\n",
    "small_primes.add(3)\n",
    "small_primes.add(5)\n",
    "small_primes.remove(3)\n",
    "print(small_primes)\n",
    "print(7 in small_primes)\n",
    "bigger_primes = set([5, 7, 11, 13])\n",
    "\n",
    "# Union operator of Sets:\n",
    "print(small_primes | bigger_primes)\n",
    "\n",
    "# intersection operator of Sets\n",
    "print(small_primes & bigger_primes)\n",
    "\n",
    "# Difference operator\n",
    "small_primes - bigger_primes"
   ]
  },
  {
   "cell_type": "markdown",
   "metadata": {},
   "source": [
    "## (6) Mapping types: Dictionaries\n",
    "\n",
    "The only standard mapping type, the dictionary is the backbone of every Python object.\n",
    "\n",
    "There are five ways to create a dictionary."
   ]
  },
  {
   "cell_type": "code",
   "execution_count": null,
   "metadata": {},
   "outputs": [
    {
     "data": {
      "text/plain": [
       "True"
      ]
     },
     "execution_count": 21,
     "metadata": {},
     "output_type": "execute_result"
    }
   ],
   "source": [
    "a = dict(A=1, Z=-1)\n",
    "b = {\"A\": 1, \"Z\": -1}\n",
    "c = dict(zip([\"A\", \"Z\"], [1, -1]))\n",
    "d = dict([(\"A\", 1), (\"Z\", -1)])\n",
    "e = dict({\"Z\": -1, \"A\": 1})\n",
    "a == b == c == d == e  # are they all the same?"
   ]
  },
  {
   "cell_type": "markdown",
   "metadata": {},
   "source": [
    " **IS operator** checks whether the two objects are the same (that is, **that they have the same ID, not just the same value**), but unless you have a good reason to use it, you should use the double equals instead."
   ]
  },
  {
   "cell_type": "code",
   "execution_count": 6,
   "metadata": {},
   "outputs": [
    {
     "data": {
      "text/plain": [
       "[('h', 0), ('e', 1), ('l', 2), ('l', 3), ('o', 4)]"
      ]
     },
     "execution_count": 6,
     "metadata": {},
     "output_type": "execute_result"
    }
   ],
   "source": [
    "list(zip('hello',range(0,6)))"
   ]
  },
  {
   "cell_type": "code",
   "execution_count": 12,
   "metadata": {},
   "outputs": [
    {
     "name": "stdout",
     "output_type": "stream",
     "text": [
      "2\n",
      "1\n",
      "{'a': 1, 'b': 2}\n",
      "True\n",
      "False\n"
     ]
    },
    {
     "data": {
      "text/plain": [
       "{}"
      ]
     },
     "execution_count": 12,
     "metadata": {},
     "output_type": "execute_result"
    }
   ],
   "source": [
    "d = {}\n",
    "d[\"a\"] = 1\n",
    "d[\"b\"] = 2\n",
    "print(len(d))\n",
    "print(d[\"a\"])\n",
    "print(d)\n",
    "d[\"c\"] =3\n",
    "print(\"c\" in d)\n",
    "print(3 in d)\n",
    "d.clear()\n",
    "d"
   ]
  },
  {
   "cell_type": "markdown",
   "metadata": {},
   "source": [
    "Membership is checked on the key not on the values. "
   ]
  },
  {
   "cell_type": "code",
   "execution_count": 20,
   "metadata": {},
   "outputs": [
    {
     "name": "stdout",
     "output_type": "stream",
     "text": [
      "dict_keys(['h', 'e', 'l', 'o'])\n",
      "dict_items([('h', 0), ('e', 1), ('l', 3), ('o', 4)])\n",
      "True\n",
      "True\n"
     ]
    }
   ],
   "source": [
    "d = dict(zip(\"hello\", range(5)))\n",
    "print(d.keys())\n",
    "print(d.items())\n",
    "print(3 in d.values())\n",
    "print(('o',4) in d.items())"
   ]
  },
  {
   "cell_type": "code",
   "execution_count": null,
   "metadata": {},
   "outputs": [
    {
     "data": {
      "text/plain": [
       "('o', 4)"
      ]
     },
     "execution_count": 21,
     "metadata": {},
     "output_type": "execute_result"
    }
   ],
   "source": [
    "d.popitem() # Removes last item"
   ]
  },
  {
   "cell_type": "code",
   "execution_count": 22,
   "metadata": {},
   "outputs": [
    {
     "data": {
      "text/plain": [
       "{'h': 0, 'e': 1, 'l': 3}"
      ]
     },
     "execution_count": 22,
     "metadata": {},
     "output_type": "execute_result"
    }
   ],
   "source": [
    "d"
   ]
  },
  {
   "cell_type": "code",
   "execution_count": null,
   "metadata": {},
   "outputs": [
    {
     "data": {
      "text/plain": [
       "3"
      ]
     },
     "execution_count": 24,
     "metadata": {},
     "output_type": "execute_result"
    }
   ],
   "source": [
    "d.pop(\"l\") # Removes the item with the key \"l\""
   ]
  },
  {
   "cell_type": "code",
   "execution_count": 25,
   "metadata": {},
   "outputs": [
    {
     "data": {
      "text/plain": [
       "{'h': 0, 'e': 1}"
      ]
     },
     "execution_count": 25,
     "metadata": {},
     "output_type": "execute_result"
    }
   ],
   "source": [
    "d"
   ]
  },
  {
   "cell_type": "code",
   "execution_count": 27,
   "metadata": {},
   "outputs": [
    {
     "data": {
      "text/plain": [
       "'default-value'"
      ]
     },
     "execution_count": 27,
     "metadata": {},
     "output_type": "execute_result"
    }
   ],
   "source": [
    "d.pop(\"not-a-key\", \"default-value\")"
   ]
  },
  {
   "cell_type": "code",
   "execution_count": 28,
   "metadata": {},
   "outputs": [],
   "source": [
    "d.update({\"another\": \"value\"})"
   ]
  },
  {
   "cell_type": "code",
   "execution_count": 29,
   "metadata": {},
   "outputs": [
    {
     "data": {
      "text/plain": [
       "{'h': 0, 'e': 1, 'another': 'value'}"
      ]
     },
     "execution_count": 29,
     "metadata": {},
     "output_type": "execute_result"
    }
   ],
   "source": [
    "d"
   ]
  },
  {
   "cell_type": "code",
   "execution_count": 30,
   "metadata": {},
   "outputs": [],
   "source": [
    "d.update(a=13)"
   ]
  },
  {
   "cell_type": "code",
   "execution_count": 31,
   "metadata": {},
   "outputs": [
    {
     "data": {
      "text/plain": [
       "{'h': 0, 'e': 1, 'another': 'value', 'a': 13}"
      ]
     },
     "execution_count": 31,
     "metadata": {},
     "output_type": "execute_result"
    }
   ],
   "source": [
    "d"
   ]
  },
  {
   "cell_type": "code",
   "execution_count": 32,
   "metadata": {},
   "outputs": [
    {
     "data": {
      "text/plain": [
       "13"
      ]
     },
     "execution_count": 32,
     "metadata": {},
     "output_type": "execute_result"
    }
   ],
   "source": [
    "d.get(\"a\")"
   ]
  },
  {
   "cell_type": "code",
   "execution_count": 33,
   "metadata": {},
   "outputs": [
    {
     "data": {
      "text/plain": [
       "{'h': 0, 'e': 1, 'another': 'value', 'a': 13}"
      ]
     },
     "execution_count": 33,
     "metadata": {},
     "output_type": "execute_result"
    }
   ],
   "source": [
    "d"
   ]
  },
  {
   "cell_type": "code",
   "execution_count": 34,
   "metadata": {},
   "outputs": [
    {
     "data": {
      "text/plain": [
       "13"
      ]
     },
     "execution_count": 34,
     "metadata": {},
     "output_type": "execute_result"
    }
   ],
   "source": [
    "d.get(\"a\",117)"
   ]
  },
  {
   "cell_type": "code",
   "execution_count": 35,
   "metadata": {},
   "outputs": [
    {
     "data": {
      "text/plain": [
       "177"
      ]
     },
     "execution_count": 35,
     "metadata": {},
     "output_type": "execute_result"
    }
   ],
   "source": [
    "d.get(\"b\",177)"
   ]
  },
  {
   "cell_type": "code",
   "execution_count": 36,
   "metadata": {},
   "outputs": [],
   "source": [
    "d.get(\"b\")"
   ]
  },
  {
   "cell_type": "code",
   "execution_count": 39,
   "metadata": {},
   "outputs": [
    {
     "name": "stdout",
     "output_type": "stream",
     "text": [
      "1\n",
      "{'a': 1}\n",
      "1\n",
      "{'a': 1}\n"
     ]
    }
   ],
   "source": [
    "d = {}\n",
    "print(d.setdefault(\"a\",1))\n",
    "print(d)\n",
    "print(d.setdefault(\"a\",6))\n",
    "print(d)"
   ]
  },
  {
   "cell_type": "code",
   "execution_count": 40,
   "metadata": {},
   "outputs": [
    {
     "name": "stdout",
     "output_type": "stream",
     "text": [
      "None\n",
      "{'a': {'b': [1]}}\n"
     ]
    }
   ],
   "source": [
    "d = {}\n",
    "print(d.setdefault(\"a\",{}).setdefault(\"b\",[]).append(1))\n",
    "print(d)"
   ]
  },
  {
   "cell_type": "code",
   "execution_count": 44,
   "metadata": {},
   "outputs": [
    {
     "data": {
      "text/plain": [
       "{'a': 'A', 'b': 8, 'c': 'C'}"
      ]
     },
     "execution_count": 44,
     "metadata": {},
     "output_type": "execute_result"
    }
   ],
   "source": [
    "d = {\"a\": \"A\", \"b\": \"B\"}\n",
    "e = {\"b\": 8, \"c\": \"C\"}\n",
    "d|e"
   ]
  },
  {
   "cell_type": "code",
   "execution_count": 45,
   "metadata": {},
   "outputs": [
    {
     "data": {
      "text/plain": [
       "{'b': 'B', 'c': 'C', 'a': 'A'}"
      ]
     },
     "execution_count": 45,
     "metadata": {},
     "output_type": "execute_result"
    }
   ],
   "source": [
    "e|d"
   ]
  },
  {
   "cell_type": "code",
   "execution_count": 46,
   "metadata": {},
   "outputs": [
    {
     "data": {
      "text/plain": [
       "{'a': 'A', 'b': 8, 'c': 'C'}"
      ]
     },
     "execution_count": 46,
     "metadata": {},
     "output_type": "execute_result"
    }
   ],
   "source": [
    "{**d, **e}"
   ]
  },
  {
   "cell_type": "code",
   "execution_count": 47,
   "metadata": {},
   "outputs": [
    {
     "data": {
      "text/plain": [
       "{'b': 'B', 'c': 'C', 'a': 'A'}"
      ]
     },
     "execution_count": 47,
     "metadata": {},
     "output_type": "execute_result"
    }
   ],
   "source": [
    "{**e, **d}"
   ]
  },
  {
   "cell_type": "code",
   "execution_count": 49,
   "metadata": {},
   "outputs": [
    {
     "data": {
      "text/plain": [
       "{'a': 'A', 'b': 8, 'c': 'C'}"
      ]
     },
     "execution_count": 49,
     "metadata": {},
     "output_type": "execute_result"
    }
   ],
   "source": [
    "d |=e\n",
    "d"
   ]
  },
  {
   "cell_type": "markdown",
   "metadata": {},
   "source": [
    "## (7) Data types\n",
    "\n",
    "https://docs.python.org/3/library/datatypes.html\n",
    "\n",
    "### i. Dates and times\n",
    "\n",
    "Standard libraries for Dates and Times in Python: *datetime*, *calendar*, *zoneinfo*, *time*"
   ]
  },
  {
   "cell_type": "markdown",
   "metadata": {},
   "source": [
    "#### (a) Dates "
   ]
  },
  {
   "cell_type": "code",
   "execution_count": 51,
   "metadata": {},
   "outputs": [],
   "source": [
    "from datetime import date, datetime, timedelta, timezone, UTC\n",
    "import time\n",
    "import calendar as cal\n",
    "from zoneinfo import ZoneInfo"
   ]
  },
  {
   "cell_type": "code",
   "execution_count": 52,
   "metadata": {},
   "outputs": [
    {
     "data": {
      "text/plain": [
       "datetime.date(2025, 3, 27)"
      ]
     },
     "execution_count": 52,
     "metadata": {},
     "output_type": "execute_result"
    }
   ],
   "source": [
    "today = date.today()\n",
    "today"
   ]
  },
  {
   "cell_type": "code",
   "execution_count": 53,
   "metadata": {},
   "outputs": [
    {
     "data": {
      "text/plain": [
       "'Thu Mar 27 00:00:00 2025'"
      ]
     },
     "execution_count": 53,
     "metadata": {},
     "output_type": "execute_result"
    }
   ],
   "source": [
    "today.ctime()"
   ]
  },
  {
   "cell_type": "code",
   "execution_count": 54,
   "metadata": {},
   "outputs": [
    {
     "data": {
      "text/plain": [
       "'2025-03-27'"
      ]
     },
     "execution_count": 54,
     "metadata": {},
     "output_type": "execute_result"
    }
   ],
   "source": [
    "today.isoformat()"
   ]
  },
  {
   "cell_type": "code",
   "execution_count": 55,
   "metadata": {},
   "outputs": [
    {
     "data": {
      "text/plain": [
       "3"
      ]
     },
     "execution_count": 55,
     "metadata": {},
     "output_type": "execute_result"
    }
   ],
   "source": [
    "today.weekday()"
   ]
  },
  {
   "cell_type": "code",
   "execution_count": 56,
   "metadata": {},
   "outputs": [
    {
     "data": {
      "text/plain": [
       "'Thursday'"
      ]
     },
     "execution_count": 56,
     "metadata": {},
     "output_type": "execute_result"
    }
   ],
   "source": [
    "cal.day_name[today.weekday()]"
   ]
  },
  {
   "cell_type": "code",
   "execution_count": 57,
   "metadata": {},
   "outputs": [
    {
     "data": {
      "text/plain": [
       "(27, 3, 2025)"
      ]
     },
     "execution_count": 57,
     "metadata": {},
     "output_type": "execute_result"
    }
   ],
   "source": [
    "today.day, today.month, today.year"
   ]
  },
  {
   "cell_type": "code",
   "execution_count": 58,
   "metadata": {},
   "outputs": [
    {
     "data": {
      "text/plain": [
       "time.struct_time(tm_year=2025, tm_mon=3, tm_mday=27, tm_hour=0, tm_min=0, tm_sec=0, tm_wday=3, tm_yday=86, tm_isdst=-1)"
      ]
     },
     "execution_count": 58,
     "metadata": {},
     "output_type": "execute_result"
    }
   ],
   "source": [
    "today.timetuple()"
   ]
  },
  {
   "cell_type": "markdown",
   "metadata": {},
   "source": [
    "#### (b) Times"
   ]
  },
  {
   "cell_type": "code",
   "execution_count": 59,
   "metadata": {},
   "outputs": [
    {
     "data": {
      "text/plain": [
       "'Thu Mar 27 15:34:00 2025'"
      ]
     },
     "execution_count": 59,
     "metadata": {},
     "output_type": "execute_result"
    }
   ],
   "source": [
    "time.ctime()"
   ]
  },
  {
   "cell_type": "code",
   "execution_count": 60,
   "metadata": {},
   "outputs": [
    {
     "data": {
      "text/plain": [
       "0"
      ]
     },
     "execution_count": 60,
     "metadata": {},
     "output_type": "execute_result"
    }
   ],
   "source": [
    "time.daylight"
   ]
  },
  {
   "cell_type": "code",
   "execution_count": 61,
   "metadata": {},
   "outputs": [
    {
     "data": {
      "text/plain": [
       "time.struct_time(tm_year=2025, tm_mon=3, tm_mday=27, tm_hour=7, tm_min=34, tm_sec=26, tm_wday=3, tm_yday=86, tm_isdst=0)"
      ]
     },
     "execution_count": 61,
     "metadata": {},
     "output_type": "execute_result"
    }
   ],
   "source": [
    "time.gmtime()"
   ]
  },
  {
   "cell_type": "code",
   "execution_count": 62,
   "metadata": {},
   "outputs": [
    {
     "data": {
      "text/plain": [
       "time.struct_time(tm_year=2025, tm_mon=3, tm_mday=27, tm_hour=15, tm_min=34, tm_sec=47, tm_wday=3, tm_yday=86, tm_isdst=0)"
      ]
     },
     "execution_count": 62,
     "metadata": {},
     "output_type": "execute_result"
    }
   ],
   "source": [
    "time.localtime()"
   ]
  },
  {
   "cell_type": "code",
   "execution_count": 63,
   "metadata": {},
   "outputs": [
    {
     "data": {
      "text/plain": [
       "1743060906.036994"
      ]
     },
     "execution_count": 63,
     "metadata": {},
     "output_type": "execute_result"
    }
   ],
   "source": [
    "time.time()"
   ]
  },
  {
   "cell_type": "markdown",
   "metadata": {},
   "source": [
    "#### (c) Datetime"
   ]
  },
  {
   "cell_type": "code",
   "execution_count": 65,
   "metadata": {},
   "outputs": [
    {
     "data": {
      "text/plain": [
       "datetime.datetime(2025, 3, 27, 15, 38, 16, 583649)"
      ]
     },
     "execution_count": 65,
     "metadata": {},
     "output_type": "execute_result"
    }
   ],
   "source": [
    "now = datetime.now()\n",
    "utcnow = datetime.now(UTC)\n",
    "now"
   ]
  },
  {
   "cell_type": "code",
   "execution_count": 66,
   "metadata": {},
   "outputs": [
    {
     "data": {
      "text/plain": [
       "datetime.datetime(2025, 3, 27, 7, 38, 16, 583675, tzinfo=datetime.timezone.utc)"
      ]
     },
     "execution_count": 66,
     "metadata": {},
     "output_type": "execute_result"
    }
   ],
   "source": [
    "utcnow"
   ]
  },
  {
   "cell_type": "code",
   "execution_count": 67,
   "metadata": {},
   "outputs": [
    {
     "data": {
      "text/plain": [
       "datetime.date(2025, 3, 27)"
      ]
     },
     "execution_count": 67,
     "metadata": {},
     "output_type": "execute_result"
    }
   ],
   "source": [
    "now.date()"
   ]
  },
  {
   "cell_type": "code",
   "execution_count": 68,
   "metadata": {},
   "outputs": [
    {
     "data": {
      "text/plain": [
       "(27, 3, 2025)"
      ]
     },
     "execution_count": 68,
     "metadata": {},
     "output_type": "execute_result"
    }
   ],
   "source": [
    "now.day, now.month, now.year"
   ]
  },
  {
   "cell_type": "code",
   "execution_count": 69,
   "metadata": {},
   "outputs": [
    {
     "data": {
      "text/plain": [
       "True"
      ]
     },
     "execution_count": 69,
     "metadata": {},
     "output_type": "execute_result"
    }
   ],
   "source": [
    "now.date() == date.today()"
   ]
  },
  {
   "cell_type": "code",
   "execution_count": 70,
   "metadata": {},
   "outputs": [
    {
     "data": {
      "text/plain": [
       "datetime.time(15, 38, 16, 583649)"
      ]
     },
     "execution_count": 70,
     "metadata": {},
     "output_type": "execute_result"
    }
   ],
   "source": [
    "now.time()"
   ]
  },
  {
   "cell_type": "code",
   "execution_count": 71,
   "metadata": {},
   "outputs": [
    {
     "data": {
      "text/plain": [
       "(15, 38, 16, 583649)"
      ]
     },
     "execution_count": 71,
     "metadata": {},
     "output_type": "execute_result"
    }
   ],
   "source": [
    "now.hour, now.minute, now.second, now.microsecond"
   ]
  },
  {
   "cell_type": "code",
   "execution_count": 72,
   "metadata": {},
   "outputs": [
    {
     "data": {
      "text/plain": [
       "'Thu Mar 27 15:38:16 2025'"
      ]
     },
     "execution_count": 72,
     "metadata": {},
     "output_type": "execute_result"
    }
   ],
   "source": [
    "now.ctime()"
   ]
  },
  {
   "cell_type": "code",
   "execution_count": 73,
   "metadata": {},
   "outputs": [
    {
     "data": {
      "text/plain": [
       "'2025-03-27T15:38:16.583649'"
      ]
     },
     "execution_count": 73,
     "metadata": {},
     "output_type": "execute_result"
    }
   ],
   "source": [
    "now.isoformat()"
   ]
  },
  {
   "cell_type": "code",
   "execution_count": 74,
   "metadata": {},
   "outputs": [
    {
     "data": {
      "text/plain": [
       "time.struct_time(tm_year=2025, tm_mon=3, tm_mday=27, tm_hour=15, tm_min=38, tm_sec=16, tm_wday=3, tm_yday=86, tm_isdst=-1)"
      ]
     },
     "execution_count": 74,
     "metadata": {},
     "output_type": "execute_result"
    }
   ],
   "source": [
    "now.timetuple()"
   ]
  },
  {
   "cell_type": "code",
   "execution_count": 77,
   "metadata": {},
   "outputs": [],
   "source": [
    "now.tzinfo"
   ]
  },
  {
   "cell_type": "code",
   "execution_count": 78,
   "metadata": {},
   "outputs": [
    {
     "data": {
      "text/plain": [
       "datetime.timezone.utc"
      ]
     },
     "execution_count": 78,
     "metadata": {},
     "output_type": "execute_result"
    }
   ],
   "source": [
    "utcnow.tzinfo"
   ]
  },
  {
   "cell_type": "code",
   "execution_count": 79,
   "metadata": {},
   "outputs": [
    {
     "data": {
      "text/plain": [
       "3"
      ]
     },
     "execution_count": 79,
     "metadata": {},
     "output_type": "execute_result"
    }
   ],
   "source": [
    "now.weekday()"
   ]
  },
  {
   "cell_type": "markdown",
   "metadata": {},
   "source": [
    "Date and time objects may be categorized as *aware* if they include time zone information, or *naïve* if they don’t."
   ]
  },
  {
   "cell_type": "code",
   "execution_count": 90,
   "metadata": {},
   "outputs": [
    {
     "name": "stdout",
     "output_type": "stream",
     "text": [
      "<class 'set'>\n"
     ]
    },
    {
     "data": {
      "text/plain": [
       "['Europe/Paris']"
      ]
     },
     "execution_count": 90,
     "metadata": {},
     "output_type": "execute_result"
    }
   ],
   "source": [
    "import zoneinfo\n",
    "print(type(zoneinfo.available_timezones()))\n",
    "[x for x in zoneinfo.available_timezones() if \"Europe/Paris\" in x]"
   ]
  },
  {
   "cell_type": "code",
   "execution_count": 95,
   "metadata": {},
   "outputs": [],
   "source": [
    "f_bday = datetime(1987, 12, 17, 8, 30, tzinfo = ZoneInfo('Asia/Seoul'))\n",
    "h_bday = datetime(1985, 8, 30, 7, 30, tzinfo = ZoneInfo('Europe/Paris'))\n",
    "diff =  f_bday - h_bday"
   ]
  },
  {
   "cell_type": "code",
   "execution_count": 96,
   "metadata": {},
   "outputs": [
    {
     "data": {
      "text/plain": [
       "datetime.timedelta"
      ]
     },
     "execution_count": 96,
     "metadata": {},
     "output_type": "execute_result"
    }
   ],
   "source": [
    "type(diff)"
   ]
  },
  {
   "cell_type": "code",
   "execution_count": 99,
   "metadata": {},
   "outputs": [
    {
     "data": {
      "text/plain": [
       "2.2958904109589042"
      ]
     },
     "execution_count": 99,
     "metadata": {},
     "output_type": "execute_result"
    }
   ],
   "source": [
    "diff.days/365"
   ]
  },
  {
   "cell_type": "code",
   "execution_count": 98,
   "metadata": {},
   "outputs": [
    {
     "data": {
      "text/plain": [
       "72468000.0"
      ]
     },
     "execution_count": 98,
     "metadata": {},
     "output_type": "execute_result"
    }
   ],
   "source": [
    "diff.total_seconds()"
   ]
  },
  {
   "cell_type": "code",
   "execution_count": 100,
   "metadata": {},
   "outputs": [
    {
     "data": {
      "text/plain": [
       "datetime.date(2025, 5, 15)"
      ]
     },
     "execution_count": 100,
     "metadata": {},
     "output_type": "execute_result"
    }
   ],
   "source": [
    "today + timedelta(days = 49)"
   ]
  },
  {
   "cell_type": "code",
   "execution_count": 101,
   "metadata": {},
   "outputs": [
    {
     "data": {
      "text/plain": [
       "datetime.datetime(2025, 5, 15, 15, 38, 16, 583649)"
      ]
     },
     "execution_count": 101,
     "metadata": {},
     "output_type": "execute_result"
    }
   ],
   "source": [
    "now + timedelta(weeks = 7)"
   ]
  },
  {
   "cell_type": "markdown",
   "metadata": {},
   "source": [
    "Third-party libraries for Date and Time:"
   ]
  },
  {
   "cell_type": "markdown",
   "metadata": {},
   "source": [
    "- **dateutil**: Powerful extensions to datetime (https://dateutil.readthedocs.io/)\n",
    "- **Arrow**: Better dates and times for Python (https://arrow.readthedocs.io/)\n",
    "- **Pendulum**: Python datetimes made easy (https://pendulum.eustace.io/)\n",
    "- **Maya**: Datetimes for humansTM (https://github.com/kennethreitz/maya)\n",
    "- **Delorean**: Time Travel Made Easy (https://delorean.readthedocs.io/)\n",
    "- **pytz**: World time zone definitions for Python (https://pythonhosted.org/pytz/)"
   ]
  },
  {
   "cell_type": "code",
   "execution_count": 104,
   "metadata": {},
   "outputs": [
    {
     "data": {
      "text/plain": [
       "<Arrow [2025-03-27T07:54:37.373525+00:00]>"
      ]
     },
     "execution_count": 104,
     "metadata": {},
     "output_type": "execute_result"
    }
   ],
   "source": [
    "import arrow\n",
    "arrow.utcnow()"
   ]
  },
  {
   "cell_type": "code",
   "execution_count": 105,
   "metadata": {},
   "outputs": [
    {
     "data": {
      "text/plain": [
       "<Arrow [2025-03-27T15:54:49.374667+08:00]>"
      ]
     },
     "execution_count": 105,
     "metadata": {},
     "output_type": "execute_result"
    }
   ],
   "source": [
    "arrow.now()"
   ]
  },
  {
   "cell_type": "code",
   "execution_count": 107,
   "metadata": {},
   "outputs": [
    {
     "data": {
      "text/plain": [
       "<Arrow [2025-03-27T15:55:19.062709+08:00]>"
      ]
     },
     "execution_count": 107,
     "metadata": {},
     "output_type": "execute_result"
    }
   ],
   "source": [
    "local = arrow.now(\"Asia/Hong Kong\")\n",
    "local"
   ]
  },
  {
   "cell_type": "code",
   "execution_count": 108,
   "metadata": {},
   "outputs": [
    {
     "data": {
      "text/plain": [
       "<Arrow [2025-03-27T07:55:19.062709+00:00]>"
      ]
     },
     "execution_count": 108,
     "metadata": {},
     "output_type": "execute_result"
    }
   ],
   "source": [
    "local.to(\"utc\")"
   ]
  },
  {
   "cell_type": "code",
   "execution_count": 109,
   "metadata": {},
   "outputs": [
    {
     "data": {
      "text/plain": [
       "<Arrow [2025-03-27T10:55:19.062709+03:00]>"
      ]
     },
     "execution_count": 109,
     "metadata": {},
     "output_type": "execute_result"
    }
   ],
   "source": [
    "local.to(\"Europe/Moscow\")"
   ]
  },
  {
   "cell_type": "code",
   "execution_count": 110,
   "metadata": {},
   "outputs": [
    {
     "data": {
      "text/plain": [
       "<Arrow [2025-03-27T16:55:19.062709+09:00]>"
      ]
     },
     "execution_count": 110,
     "metadata": {},
     "output_type": "execute_result"
    }
   ],
   "source": [
    "local.to(\"Asia/Seoul\")"
   ]
  },
  {
   "cell_type": "code",
   "execution_count": 111,
   "metadata": {},
   "outputs": [
    {
     "data": {
      "text/plain": [
       "datetime.datetime(2025, 3, 27, 15, 55, 19, 62709, tzinfo=tzfile('/usr/share/zoneinfo/Asia/Hong_Kong'))"
      ]
     },
     "execution_count": 111,
     "metadata": {},
     "output_type": "execute_result"
    }
   ],
   "source": [
    "local.datetime"
   ]
  },
  {
   "cell_type": "code",
   "execution_count": 112,
   "metadata": {},
   "outputs": [
    {
     "data": {
      "text/plain": [
       "'2025-03-27T15:55:19.062709+08:00'"
      ]
     },
     "execution_count": 112,
     "metadata": {},
     "output_type": "execute_result"
    }
   ],
   "source": [
    "local.isoformat()"
   ]
  },
  {
   "cell_type": "markdown",
   "metadata": {},
   "source": [
    "### ii. The collections module"
   ]
  },
  {
   "cell_type": "markdown",
   "metadata": {},
   "source": [
    "*namedtuple(), deque, ChainMap, Counter, OrderedDict, defaultdict, UserDict, UserList, UserString*"
   ]
  },
  {
   "cell_type": "markdown",
   "metadata": {},
   "source": [
    "#### (a) **namedtuple**: a subclass of tuple, indexable and iterable, accessible by attribute lookup."
   ]
  },
  {
   "cell_type": "code",
   "execution_count": 113,
   "metadata": {},
   "outputs": [],
   "source": [
    "from collections import namedtuple\n",
    "Vision = namedtuple('Vision', ['left', 'right'])\n",
    "vision = Vision(9.5, 8.8)"
   ]
  },
  {
   "cell_type": "code",
   "execution_count": 115,
   "metadata": {},
   "outputs": [
    {
     "data": {
      "text/plain": [
       "9.5"
      ]
     },
     "execution_count": 115,
     "metadata": {},
     "output_type": "execute_result"
    }
   ],
   "source": [
    "vision[0]"
   ]
  },
  {
   "cell_type": "code",
   "execution_count": 116,
   "metadata": {},
   "outputs": [
    {
     "data": {
      "text/plain": [
       "9.5"
      ]
     },
     "execution_count": 116,
     "metadata": {},
     "output_type": "execute_result"
    }
   ],
   "source": [
    "vision.left"
   ]
  },
  {
   "cell_type": "code",
   "execution_count": 117,
   "metadata": {},
   "outputs": [
    {
     "data": {
      "text/plain": [
       "8.8"
      ]
     },
     "execution_count": 117,
     "metadata": {},
     "output_type": "execute_result"
    }
   ],
   "source": [
    "vision.right"
   ]
  },
  {
   "cell_type": "code",
   "execution_count": 118,
   "metadata": {},
   "outputs": [
    {
     "data": {
      "text/plain": [
       "9.5"
      ]
     },
     "execution_count": 118,
     "metadata": {},
     "output_type": "execute_result"
    }
   ],
   "source": [
    "Vision = namedtuple('Vision', ['left', 'combined', 'right'])\n",
    "vision = Vision(9.5, 9.2, 8.8)\n",
    "vision.left"
   ]
  },
  {
   "cell_type": "code",
   "execution_count": 119,
   "metadata": {},
   "outputs": [
    {
     "data": {
      "text/plain": [
       "8.8"
      ]
     },
     "execution_count": 119,
     "metadata": {},
     "output_type": "execute_result"
    }
   ],
   "source": [
    "vision.right"
   ]
  },
  {
   "cell_type": "code",
   "execution_count": 120,
   "metadata": {},
   "outputs": [
    {
     "data": {
      "text/plain": [
       "9.2"
      ]
     },
     "execution_count": 120,
     "metadata": {},
     "output_type": "execute_result"
    }
   ],
   "source": [
    "vision.combined"
   ]
  },
  {
   "cell_type": "markdown",
   "metadata": {},
   "source": [
    "#### (b) **defaultdict**"
   ]
  },
  {
   "cell_type": "code",
   "execution_count": 123,
   "metadata": {},
   "outputs": [
    {
     "data": {
      "text/plain": [
       "{'age': 1}"
      ]
     },
     "execution_count": 123,
     "metadata": {},
     "output_type": "execute_result"
    }
   ],
   "source": [
    "d = {}\n",
    "d[\"age\"] = d.get(\"age\", 0) + 1\n",
    "d"
   ]
  },
  {
   "cell_type": "code",
   "execution_count": 124,
   "metadata": {},
   "outputs": [
    {
     "data": {
      "text/plain": [
       "{'age': 40}"
      ]
     },
     "execution_count": 124,
     "metadata": {},
     "output_type": "execute_result"
    }
   ],
   "source": [
    "d = {\"age\":39}\n",
    "d[\"age\"] = d.get(\"age\", 0) +1\n",
    "d"
   ]
  },
  {
   "cell_type": "code",
   "execution_count": 125,
   "metadata": {},
   "outputs": [
    {
     "data": {
      "text/plain": [
       "defaultdict(int, {'age': 1})"
      ]
     },
     "execution_count": 125,
     "metadata": {},
     "output_type": "execute_result"
    }
   ],
   "source": [
    "from collections import defaultdict\n",
    "dd = defaultdict(int)\n",
    "dd[\"age\"] += 1\n",
    "dd"
   ]
  },
  {
   "cell_type": "markdown",
   "metadata": {},
   "source": [
    "#### (c) **ChainMap**"
   ]
  },
  {
   "cell_type": "markdown",
   "metadata": {},
   "source": [
    "It behaves like a normal dictionary but, according to the Python documentation, **is provided for quickly linking a number of mappings so they can be treated as a single unit.** This is usually much faster than creating one dictionary and running multiple update calls on it."
   ]
  },
  {
   "cell_type": "code",
   "execution_count": null,
   "metadata": {},
   "outputs": [
    {
     "name": "stdout",
     "output_type": "stream",
     "text": [
      "5678\n",
      "localhost\n",
      "[{'port': 5678}, {'host': 'localhost', 'port': 4567}]\n",
      "[{'port': 5678, 'host': 'packtpub.com'}, {'host': 'localhost', 'port': 4567}]\n",
      "[{'host': 'packtpub.com'}, {'host': 'localhost', 'port': 4567}]\n",
      "4567\n"
     ]
    },
    {
     "data": {
      "text/plain": [
       "{'host': 'packtpub.com', 'port': 4567}"
      ]
     },
     "execution_count": 133,
     "metadata": {},
     "output_type": "execute_result"
    }
   ],
   "source": [
    "from collections import ChainMap\n",
    "default_connection = {'host': 'localhost', 'port':4567}\n",
    "connection = {'port': 5678}\n",
    "conn = ChainMap(connection, default_connection)\n",
    "print(conn['port'])\n",
    "print(conn['host'])\n",
    "print(conn.maps)\n",
    "conn['host'] = 'packtpub.com'\n",
    "print(conn.maps)\n",
    "del conn['port']\n",
    "print(conn.maps)\n",
    "print(conn['port'])\n",
    "dict(conn)"
   ]
  },
  {
   "cell_type": "markdown",
   "metadata": {},
   "source": [
    "#### (d) Enumerations \n",
    "\n",
    "Enumeration: a set of symbolic names (members) bound to unique, constant values. Within an enumeration, the members can be compared by identity, and the enumeration itself can be iterated over."
   ]
  },
  {
   "cell_type": "code",
   "execution_count": 136,
   "metadata": {},
   "outputs": [
    {
     "name": "stdout",
     "output_type": "stream",
     "text": [
      "(1, 2, 4)\n"
     ]
    }
   ],
   "source": [
    "GREEN = 1\n",
    "YELLOW = 2\n",
    "RED = 4\n",
    "TRAFFIC_LIGHTS = (GREEN, YELLOW, RED)\n",
    "print(TRAFFIC_LIGHTS)\n",
    "traffic_lights = {\"GREEN\": 1, \"YELLOW\": 2, \"RED\": 4}"
   ]
  },
  {
   "cell_type": "code",
   "execution_count": 137,
   "metadata": {},
   "outputs": [
    {
     "data": {
      "text/plain": [
       "<TrafficLight.GREEN: 1>"
      ]
     },
     "execution_count": 137,
     "metadata": {},
     "output_type": "execute_result"
    }
   ],
   "source": [
    "from enum import Enum\n",
    "class TrafficLight(Enum):\n",
    "    GREEN = 1\n",
    "    YELLOW = 2\n",
    "    RED = 4\n",
    "\n",
    "TrafficLight.GREEN"
   ]
  },
  {
   "cell_type": "code",
   "execution_count": 138,
   "metadata": {},
   "outputs": [
    {
     "data": {
      "text/plain": [
       "'GREEN'"
      ]
     },
     "execution_count": 138,
     "metadata": {},
     "output_type": "execute_result"
    }
   ],
   "source": [
    "TrafficLight.GREEN.name"
   ]
  },
  {
   "cell_type": "code",
   "execution_count": 139,
   "metadata": {},
   "outputs": [
    {
     "data": {
      "text/plain": [
       "1"
      ]
     },
     "execution_count": 139,
     "metadata": {},
     "output_type": "execute_result"
    }
   ],
   "source": [
    "TrafficLight.GREEN.value"
   ]
  },
  {
   "cell_type": "code",
   "execution_count": 140,
   "metadata": {},
   "outputs": [
    {
     "data": {
      "text/plain": [
       "<TrafficLight.GREEN: 1>"
      ]
     },
     "execution_count": 140,
     "metadata": {},
     "output_type": "execute_result"
    }
   ],
   "source": [
    "TrafficLight(1)"
   ]
  },
  {
   "cell_type": "code",
   "execution_count": 141,
   "metadata": {},
   "outputs": [
    {
     "data": {
      "text/plain": [
       "<TrafficLight.RED: 4>"
      ]
     },
     "execution_count": 141,
     "metadata": {},
     "output_type": "execute_result"
    }
   ],
   "source": [
    "TrafficLight(4)"
   ]
  },
  {
   "cell_type": "markdown",
   "metadata": {},
   "source": [
    "## (8) Final Consideration "
   ]
  },
  {
   "cell_type": "markdown",
   "metadata": {},
   "source": [
    "**Object interning** is a memory optimization technique that is used primarily for immutable data types, such as strings and integers in Python. The idea is to reuse existing objects instead of creating new ones every time an object with the same value is required.\n",
    "\n",
    "This can lead to significant memory savings and performance improvements because it reduces the load on the garbage collector and speeds up comparisons since they can be done by comparing object identities."
   ]
  },
  {
   "cell_type": "code",
   "execution_count": 142,
   "metadata": {},
   "outputs": [
    {
     "data": {
      "text/plain": [
       "True"
      ]
     },
     "execution_count": 142,
     "metadata": {},
     "output_type": "execute_result"
    }
   ],
   "source": [
    "# Object interning:\n",
    "a = 5\n",
    "b = 5\n",
    "id(a) == id(b)"
   ]
  },
  {
   "cell_type": "markdown",
   "metadata": {},
   "source": [
    "What about performance? For example, in a list, operations such as insertion and membership testing can take O(n) time (big O notation), while they are O(1) for a dictionary. It is not always possible to use dictionaries though, if we don’t have the guarantee that we can uniquely identify each item of the collection by means of one of its properties and that the property in question is hashable (so it can be a key in dict)."
   ]
  },
  {
   "cell_type": "markdown",
   "metadata": {},
   "source": [
    "### (9) About Names\n",
    "\n",
    "- Names for data should be nouns\n",
    "- Names for functions should be verbs\n",
    "- Names should be as expressive as possible."
   ]
  }
 ],
 "metadata": {
  "kernelspec": {
   "display_name": "py_prgm_ex",
   "language": "python",
   "name": "python3"
  },
  "language_info": {
   "codemirror_mode": {
    "name": "ipython",
    "version": 3
   },
   "file_extension": ".py",
   "mimetype": "text/x-python",
   "name": "python",
   "nbconvert_exporter": "python",
   "pygments_lexer": "ipython3",
   "version": "3.13.2"
  }
 },
 "nbformat": 4,
 "nbformat_minor": 2
}
