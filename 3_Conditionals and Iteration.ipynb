{
 "cells": [
  {
   "cell_type": "markdown",
   "metadata": {},
   "source": [
    "# 3. Conditionals and Iteration\n",
    "## (1) Conditional programming\n",
    "### a. The if statement "
   ]
  },
  {
   "cell_type": "code",
   "execution_count": 3,
   "metadata": {},
   "outputs": [
    {
     "name": "stdout",
     "output_type": "stream",
     "text": [
      "no need to call my manager...\n"
     ]
    }
   ],
   "source": [
    "late = False\n",
    "if late:\n",
    "    print(\"I need to call my manager!\")  # 1\n",
    "else:\n",
    "    print(\"no need to call my manager...\")  # 2"
   ]
  },
  {
   "cell_type": "markdown",
   "metadata": {},
   "source": [
    "### b. A specialized else: ELIF\n",
    "\n",
    "### c. Nesting if statements\n",
    "\n",
    "### d. The ternary operator: Conditional expressions \n",
    "\n",
    "It looks and behaves like a short, in-line version of an if statement."
   ]
  },
  {
   "cell_type": "code",
   "execution_count": 5,
   "metadata": {},
   "outputs": [
    {
     "name": "stdout",
     "output_type": "stream",
     "text": [
      "247 25\n"
     ]
    }
   ],
   "source": [
    "# ternary operator\n",
    "order_total = 247\n",
    "discount = 25 if order_total > 100 else 0\n",
    "print(order_total, discount)"
   ]
  },
  {
   "cell_type": "code",
   "execution_count": null,
   "metadata": {},
   "outputs": [
    {
     "name": "stdout",
     "output_type": "stream",
     "text": [
      "247 25\n"
     ]
    }
   ],
   "source": [
    "print(order_total, discount)"
   ]
  },
  {
   "cell_type": "markdown",
   "metadata": {},
   "source": [
    "### e. Pattern matching"
   ]
  },
  {
   "cell_type": "markdown",
   "metadata": {},
   "source": [
    "**Structural pattern matching**, often just called **pattern matching**, is a relatively new feature \n",
    "that was introduced in Python 3.10 via PEP 634 (https://peps.python.org/pep-0634). \n",
    "It was partly inspired by the pattern matching capabilities of languages \n",
    "like Haskel, Erlang, Scala, Elixir, and Ruby.\n",
    "\n",
    "Simply put, the match statement compares a value against one or more patterns, \n",
    "and then it executes the code block associated with the first pattern that matches. \n",
    "Let us see a simple example:"
   ]
  },
  {
   "cell_type": "code",
   "execution_count": 8,
   "metadata": {},
   "outputs": [
    {
     "name": "stdout",
     "output_type": "stream",
     "text": [
      "8 is not a valid day number\n"
     ]
    }
   ],
   "source": [
    "day_number = 8\n",
    "match day_number:\n",
    "    case 1 | 2 | 3 | 4 | 5:\n",
    "        print(\"Weekday\")\n",
    "    case 6:\n",
    "        print(\"Saturday\")\n",
    "    case 7:\n",
    "        print(\"Sunday\")\n",
    "    case _:\n",
    "        print(f\"{day_number} is not a valid day number\")"
   ]
  },
  {
   "cell_type": "markdown",
   "metadata": {},
   "source": [
    "## (2) Looping\n",
    "### a. The FOR loop:"
   ]
  },
  {
   "cell_type": "code",
   "execution_count": 10,
   "metadata": {},
   "outputs": [
    {
     "name": "stdout",
     "output_type": "stream",
     "text": [
      "0\n",
      "1\n",
      "2\n",
      "3\n",
      "4\n"
     ]
    }
   ],
   "source": [
    "for number in [0, 1, 2, 3, 4]:\n",
    "    print(number)"
   ]
  },
  {
   "cell_type": "code",
   "execution_count": 12,
   "metadata": {},
   "outputs": [
    {
     "name": "stdout",
     "output_type": "stream",
     "text": [
      "0\n",
      "1\n",
      "2\n",
      "3\n"
     ]
    }
   ],
   "source": [
    "for number in range(0,4):\n",
    "    print(number)"
   ]
  },
  {
   "cell_type": "code",
   "execution_count": 13,
   "metadata": {},
   "outputs": [
    {
     "name": "stdout",
     "output_type": "stream",
     "text": [
      "[0, 1, 2, 3, 4, 5, 6, 7, 8, 9]\n",
      "[3, 4, 5, 6, 7]\n",
      "[-10, -6, -2, 2, 6]\n"
     ]
    }
   ],
   "source": [
    "print(list(range(10)))\n",
    "print(list(range(3,8)))\n",
    "print(list(range(-10,10,4)))"
   ]
  },
  {
   "cell_type": "markdown",
   "metadata": {},
   "source": [
    "Pythonic way to iterate a sequence of names:"
   ]
  },
  {
   "cell_type": "code",
   "execution_count": 15,
   "metadata": {},
   "outputs": [
    {
     "name": "stdout",
     "output_type": "stream",
     "text": [
      "Rivest\n",
      "Shamir\n",
      "Adleman\n"
     ]
    }
   ],
   "source": [
    "surnames = [\"Rivest\", \"Shamir\", \"Adleman\"]\n",
    "for surname_ in surnames:\n",
    "    print(surname_)"
   ]
  },
  {
   "cell_type": "markdown",
   "metadata": {},
   "source": [
    "What if we want to get access to the index number as well?"
   ]
  },
  {
   "cell_type": "code",
   "execution_count": 17,
   "metadata": {},
   "outputs": [
    {
     "name": "stdout",
     "output_type": "stream",
     "text": [
      "0 Rivest\n",
      "1 Shamir\n",
      "2 Adleman\n"
     ]
    }
   ],
   "source": [
    "for position, surname in enumerate(surnames):\n",
    "    print(position, surname)"
   ]
  },
  {
   "cell_type": "markdown",
   "metadata": {},
   "source": [
    "**Enumerate** function: **enumerate(iterable)** or **enumerate(iterable, start)**\n",
    "\n",
    "Return an enumerate object. iterable must be a sequence, an iterator, or some other object which supports iteration. The __next__() method of the iterator returned by enumerate() returns a tuple containing a count (from start which defaults to 0) and the values obtained from iterating over iterable.\n",
    "\n",
    "You can use a for loop to iterate over lists, tuples, and, in general, anything that Python calls iterable. "
   ]
  },
  {
   "cell_type": "code",
   "execution_count": 19,
   "metadata": {},
   "outputs": [
    {
     "name": "stdout",
     "output_type": "stream",
     "text": [
      "1 Rivest\n",
      "2 Shamir\n",
      "3 Adleman\n"
     ]
    }
   ],
   "source": [
    "for position, surname in enumerate(surnames, start=1):\n",
    "    print(position, surname)"
   ]
  },
  {
   "cell_type": "markdown",
   "metadata": {},
   "source": [
    "### b. Iterators and iterables\n",
    "\n",
    "- Iterable: An object capable of returning its members one at a time. Examples of iterables include all sequence types (such as list, str, and tuple) and **some non-sequence types like dict, file objects.**\n",
    "\n",
    "- Iterator: Python gives us the ability to iterate over iterables, **using a type of object called an iterator**, which is an object that represents a stream of data."
   ]
  },
  {
   "cell_type": "markdown",
   "metadata": {},
   "source": [
    "### c. Iterating over multiple sequences\n",
    "\n",
    "- Basic iteration:"
   ]
  },
  {
   "cell_type": "code",
   "execution_count": 20,
   "metadata": {},
   "outputs": [
    {
     "name": "stdout",
     "output_type": "stream",
     "text": [
      "Nick 23\n",
      "Rick 24\n",
      "Roger 23\n",
      "Syd 21\n"
     ]
    }
   ],
   "source": [
    "people = [\"Nick\", \"Rick\", \"Roger\", \"Syd\"]\n",
    "ages = [23, 24, 23, 21]\n",
    "for position in range(len(people)):\n",
    "    person = people[position]\n",
    "    age = ages[position]\n",
    "    print(person, age)"
   ]
  },
  {
   "cell_type": "markdown",
   "metadata": {},
   "source": [
    "The code works, but it is not very Pythonic. It is cumbersome to have to get the length of people, construct a range, and then iterate over that. For some data structures, it may also be expensive to retrieve items by their position. It would be better if we could iterate over the sequences directly, as we do for a single sequence. Let us try to improve it by using enumerate():"
   ]
  },
  {
   "cell_type": "code",
   "execution_count": 21,
   "metadata": {},
   "outputs": [
    {
     "name": "stdout",
     "output_type": "stream",
     "text": [
      "Nick 23\n",
      "Rick 24\n",
      "Roger 23\n",
      "Syd 21\n"
     ]
    }
   ],
   "source": [
    "people = [\"Nick\", \"Rick\", \"Roger\", \"Syd\"]\n",
    "ages = [23, 24, 23, 21]\n",
    "for position, person in enumerate(people):\n",
    "    age = ages[position]\n",
    "    print(person, age)"
   ]
  },
  {
   "cell_type": "markdown",
   "metadata": {},
   "source": [
    "That is better, but still not perfect. We are iterating properly on people, but we are still fetching age using positional indexing, which we want to lose as well. We can achieve that by using the zip() function, which we encountered in the previous chapter. Let us use it:"
   ]
  },
  {
   "cell_type": "code",
   "execution_count": 24,
   "metadata": {},
   "outputs": [
    {
     "name": "stdout",
     "output_type": "stream",
     "text": [
      "Nick 23\n",
      "Rick 24\n",
      "Roger 23\n",
      "Robin 21\n"
     ]
    }
   ],
   "source": [
    "people = [\"Nick\", \"Rick\", \"Roger\", \"Robin\"]\n",
    "ages = [23, 24, 23, 21]\n",
    "for person, age in zip(people, ages):\n",
    "    print(person, age)"
   ]
  },
  {
   "cell_type": "markdown",
   "metadata": {},
   "source": [
    "Note that it is not necessary to unpack the tuples when iterating over multiple sequences like this. You may need to operate on the tuple as a whole within the body of the for loop. It is, of course, perfectly possible to do so:"
   ]
  },
  {
   "cell_type": "code",
   "execution_count": 25,
   "metadata": {},
   "outputs": [
    {
     "name": "stdout",
     "output_type": "stream",
     "text": [
      "('Nick', 23)\n",
      "('Rick', 24)\n",
      "('Roger', 23)\n",
      "('Robin', 21)\n"
     ]
    }
   ],
   "source": [
    "people = [\"Nick\", \"Rick\", \"Roger\", \"Robin\"]\n",
    "ages = [23, 24, 23, 21]\n",
    "for data_ in zip(people, ages):\n",
    "    print(data_)"
   ]
  },
  {
   "cell_type": "markdown",
   "metadata": {},
   "source": [
    "### d. The while loop\n",
    "\n",
    "There are other cases when you just need to loop until some condition is satisfied, or even loop indefinitely until the application is stopped. In such cases, we do not have something to iterate on, so the for loop would be a poor choice. For situations like this, the while loop is more appropriate."
   ]
  },
  {
   "cell_type": "code",
   "execution_count": 3,
   "metadata": {},
   "outputs": [
    {
     "name": "stdout",
     "output_type": "stream",
     "text": [
      "19\n",
      "9\n",
      "4\n",
      "2\n",
      "1\n",
      "0\n",
      "[1, 0, 0, 1, 1, 1]\n"
     ]
    }
   ],
   "source": [
    "n = 39\n",
    "remainders = []\n",
    "while n > 0:\n",
    "    remainder = n % 2  # remainder of division by 2\n",
    "    remainders.append(remainder)  # we keep track of remainders\n",
    "    n //= 2  # we divide n by 2\n",
    "    print(n)\n",
    "remainders.reverse()\n",
    "print(remainders)"
   ]
  },
  {
   "cell_type": "code",
   "execution_count": 5,
   "metadata": {},
   "outputs": [
    {
     "name": "stdout",
     "output_type": "stream",
     "text": [
      "[1, 0, 0, 1, 1, 1]\n"
     ]
    }
   ],
   "source": [
    "n = 39\n",
    "remainders = []\n",
    "while n > 0:\n",
    "    n, remainder = divmod(n, 2)\n",
    "    remainders.append(remainder)\n",
    "remainders.reverse()\n",
    "print(remainders)"
   ]
  },
  {
   "cell_type": "markdown",
   "metadata": {},
   "source": [
    "With Python built-in function:"
   ]
  },
  {
   "cell_type": "code",
   "execution_count": 10,
   "metadata": {},
   "outputs": [
    {
     "data": {
      "text/plain": [
       "'0b100111'"
      ]
     },
     "execution_count": 10,
     "metadata": {},
     "output_type": "execute_result"
    }
   ],
   "source": [
    "bin(39)"
   ]
  },
  {
   "cell_type": "markdown",
   "metadata": {},
   "source": [
    "### e. The break and continue statements\n",
    "\n",
    "- **continue**: If the expiration date does not match today, we do not want to execute the rest of the body, so we execute the continue statement. Execution of the loop body stops and goes on to the next iteration."
   ]
  },
  {
   "cell_type": "code",
   "execution_count": 8,
   "metadata": {},
   "outputs": [
    {
     "name": "stdout",
     "output_type": "stream",
     "text": [
      "Processing sku 1\n",
      "Sku 1 price is now 80.0\n",
      "Processing sku 2\n",
      "Processing sku 3\n",
      "Sku 3 price is now 16.0\n"
     ]
    }
   ],
   "source": [
    "from datetime import date, timedelta\n",
    "today = date.today()\n",
    "tomorrow = today + timedelta(days=1)  # today + 1 day is tomorrow\n",
    "products = [\n",
    "    {\"sku\": \"1\", \"expiration_date\": today, \"price\": 100.0},\n",
    "    {\"sku\": \"2\", \"expiration_date\": tomorrow, \"price\": 50},\n",
    "    {\"sku\": \"3\", \"expiration_date\": today, \"price\": 20},\n",
    "]\n",
    "for product in products:\n",
    "    print(\"Processing sku\", product[\"sku\"])\n",
    "    if product[\"expiration_date\"] != today:\n",
    "        continue\n",
    "    product[\"price\"] *= 0.8  # equivalent to applying 20% discount\n",
    "    print(\"Sku\", product[\"sku\"], \"price is now\", product[\"price\"])"
   ]
  },
  {
   "cell_type": "markdown",
   "metadata": {},
   "source": [
    "- **break**: Say we want to tell whether at least one of the elements in a list evaluates to True when fed to the bool() function. Given that we need to know whether there is at least one, when we find it, we do not need to keep scanning the list any further. In Python code, this translates to using the break statement. "
   ]
  },
  {
   "cell_type": "code",
   "execution_count": 9,
   "metadata": {},
   "outputs": [
    {
     "name": "stdout",
     "output_type": "stream",
     "text": [
      "scanning item 0\n",
      "scanning item None\n",
      "scanning item 0.0\n",
      "scanning item True\n",
      "At least one item evaluates to True\n"
     ]
    }
   ],
   "source": [
    "items = [0, None, 0.0, True, 0, 7]  # True and 7 evaluate to True\n",
    "found = False  # this is called a \"flag\"\n",
    "for item in items:\n",
    "    print(\"scanning item\", item)\n",
    "    if item:\n",
    "        found = True  # we update the flag\n",
    "        break\n",
    "if found:  # we inspect the flag\n",
    "    print(\"At least one item evaluates to True\")\n",
    "else:\n",
    "    print(\"All items evaluate to False\")"
   ]
  },
  {
   "cell_type": "markdown",
   "metadata": {},
   "source": [
    "With Python built-in function:"
   ]
  },
  {
   "cell_type": "code",
   "execution_count": 12,
   "metadata": {},
   "outputs": [
    {
     "data": {
      "text/plain": [
       "True"
      ]
     },
     "execution_count": 12,
     "metadata": {},
     "output_type": "execute_result"
    }
   ],
   "source": [
    "any(items)"
   ]
  },
  {
   "cell_type": "markdown",
   "metadata": {},
   "source": [
    "### f. A special else clause (NOBREAK)\n",
    "\n",
    "One of the features we have seen only in the Python language is the ability to have an else clause after a loop. It is very rarely used, but it is useful to have. **If the loop ends normally, because of exhaustion of the iterator (for loop) or because the condition is finally not met (while loop), then the else suite (if present) is executed.** If execution is interrupted by a break statement, the else clause is not executed."
   ]
  },
  {
   "cell_type": "code",
   "execution_count": 17,
   "metadata": {},
   "outputs": [
    {
     "ename": "DriverException",
     "evalue": "Driver not found.",
     "output_type": "error",
     "traceback": [
      "\u001b[31m---------------------------------------------------------------------------\u001b[39m",
      "\u001b[31mDriverException\u001b[39m                           Traceback (most recent call last)",
      "\u001b[36mCell\u001b[39m\u001b[36m \u001b[39m\u001b[32mIn[17]\u001b[39m\u001b[32m, line 10\u001b[39m\n\u001b[32m      8\u001b[39m         \u001b[38;5;28;01mbreak\u001b[39;00m\n\u001b[32m      9\u001b[39m \u001b[38;5;28;01melse\u001b[39;00m:\n\u001b[32m---> \u001b[39m\u001b[32m10\u001b[39m     \u001b[38;5;28;01mraise\u001b[39;00m DriverException(\u001b[33m\"\u001b[39m\u001b[33mDriver not found.\u001b[39m\u001b[33m\"\u001b[39m)\n",
      "\u001b[31mDriverException\u001b[39m: Driver not found."
     ]
    }
   ],
   "source": [
    "class DriverException(Exception):\n",
    "    pass\n",
    "people = [(\"James\", 17), (\"Kirk\", 9), (\"Lars\", 13), (\"Robert\", 2)]\n",
    "for person, age in people:\n",
    "    if age >= 18:\n",
    "        driver = (person, age)\n",
    "        print(driver)\n",
    "        break\n",
    "else:\n",
    "    raise DriverException(\"Driver not found.\")"
   ]
  },
  {
   "cell_type": "markdown",
   "metadata": {},
   "source": [
    "## (4) Assignment expressions\n",
    "\n",
    "**Assignment expressions** allow us to bind a value to a name in places where normal assignment statements are not allowed. Instead of the normal assignment operator =, assignment expressions use **:= (known as the walrus operator** because it resembles the eyes and tusks of a walrus)."
   ]
  },
  {
   "cell_type": "markdown",
   "metadata": {},
   "source": [
    "### a. Statements and expressions\n",
    "\n",
    "- Statements: **A statement is either an expression or one of several constructs with a keyword, such as if, while or for.** ==> Python script doesn't print anything when launching statements.\n",
    "- Expressions: **A piece of syntax which can be evaluated to some value.** In other words, an expression is an accumulation of expression elements like literals, names, attribute access, operators or function calls which all return a value. ==> True, False..."
   ]
  },
  {
   "cell_type": "code",
   "execution_count": 18,
   "metadata": {},
   "outputs": [],
   "source": [
    "name = \"heinrich\""
   ]
  },
  {
   "cell_type": "markdown",
   "metadata": {},
   "source": [
    "### b. Using the warlus operator\n",
    "\n",
    "Without assignment expressions, you would have to use two separate statements if you wanted to bind a value to a name and use that value in an expression."
   ]
  },
  {
   "cell_type": "code",
   "execution_count": 20,
   "metadata": {},
   "outputs": [
    {
     "name": "stdout",
     "output_type": "stream",
     "text": [
      "Not divisible! The remainder is 3.\n"
     ]
    }
   ],
   "source": [
    "# Without Warlus Operator:\n",
    "value = 43\n",
    "modulus = 4\n",
    "remainder = value % modulus\n",
    "if remainder:\n",
    "    print(f\"Not divisible! The remainder is {remainder}.\")"
   ]
  },
  {
   "cell_type": "code",
   "execution_count": 21,
   "metadata": {},
   "outputs": [
    {
     "name": "stdout",
     "output_type": "stream",
     "text": [
      "Not divisible! The remainder is 3.\n",
      "3\n"
     ]
    }
   ],
   "source": [
    "# With Warlus Operator:\n",
    "if remainder := value % modulus:\n",
    "    print(f\"Not divisible! The remainder is {remainder}.\")\n",
    "print(remainder)"
   ]
  },
  {
   "cell_type": "code",
   "execution_count": null,
   "metadata": {},
   "outputs": [],
   "source": [
    "flavors = [\"pistachio\", \"malaga\", \"vanilla\", \"chocolate\"]\n",
    "prompt = \"Choose your flavor: \"\n",
    "while True: ## Loop Forever. \n",
    "    choice = input(prompt)\n",
    "    if choice in flavors:\n",
    "        break\n",
    "    print(f\"Sorry, '{choice}' is not a valid option.\")\n",
    "print(f\"You chose '{choice}'.\")"
   ]
  },
  {
   "cell_type": "markdown",
   "metadata": {},
   "source": [
    "## (5) Putting all this together\n",
    "### a. A prime generator\n",
    "\n",
    "A prime number (or prime integer, often simply called a “prime” for short) is a positive integer p>1 that has no positive integer divisors other than 1 and p itself. More concisely, a prime number p is a positive integer having exactly one positive divisor other than 1, meaning it is a number that cannot be factored."
   ]
  },
  {
   "cell_type": "code",
   "execution_count": null,
   "metadata": {},
   "outputs": [
    {
     "name": "stdout",
     "output_type": "stream",
     "text": [
      "[2, 3, 5, 7, 11, 13, 17, 19, 23, 29, 31, 37, 41, 43, 47, 53, 59, 61, 67, 71, 73, 79, 83, 89, 97]\n"
     ]
    }
   ],
   "source": [
    "primes = []\n",
    "upto = 100  # the limit, inclusive\n",
    "for n in range(2, upto + 1):\n",
    "    for divisor in range(2, n):\n",
    "        if n % divisor == 0:\n",
    "            break\n",
    "    else:  ###### Using FOR and ELSE #########\n",
    "        primes.append(n)\n",
    "print(primes)"
   ]
  },
  {
   "cell_type": "markdown",
   "metadata": {},
   "source": [
    "### b. Applying discounts - Lookup table technique"
   ]
  },
  {
   "cell_type": "code",
   "execution_count": 4,
   "metadata": {},
   "outputs": [
    {
     "name": "stdout",
     "output_type": "stream",
     "text": [
      "1 200 20.0\n",
      "2 150 45.0\n",
      "3 100 50.0\n",
      "4 110 15.0\n"
     ]
    }
   ],
   "source": [
    "customers = [\n",
    "    dict(id=1, total=200, coupon_code=\"F20\"),  # F20: fixed, £20\n",
    "    dict(id=2, total=150, coupon_code=\"P30\"),  # P30: percent, 30%\n",
    "    dict(id=3, total=100, coupon_code=\"P50\"),  # P50: percent, 50%\n",
    "    dict(id=4, total=110, coupon_code=\"F15\"),  # F15: fixed, £15\n",
    "]\n",
    "for customer in customers:\n",
    "    match customer[\"coupon_code\"]:\n",
    "        case \"F20\":\n",
    "            customer[\"discount\"] = 20.0\n",
    "        case \"F15\":\n",
    "            customer[\"discount\"] = 15.0\n",
    "        case \"P30\":\n",
    "            customer[\"discount\"] = customer[\"total\"] * 0.3\n",
    "        case \"P50\":\n",
    "            customer[\"discount\"] = customer[\"total\"] * 0.5\n",
    "        case _:\n",
    "            customer[\"discount\"] = 0.0\n",
    "for customer in customers:\n",
    "    print(customer[\"id\"], customer[\"total\"], customer[\"discount\"])"
   ]
  },
  {
   "cell_type": "markdown",
   "metadata": {},
   "source": [
    "It is simpler to use dictionaries than MATCH ... CASE"
   ]
  },
  {
   "cell_type": "code",
   "execution_count": 5,
   "metadata": {},
   "outputs": [
    {
     "name": "stdout",
     "output_type": "stream",
     "text": [
      "1 200 20.0\n",
      "2 150 45.0\n",
      "3 100 50.0\n",
      "4 110 15.0\n"
     ]
    }
   ],
   "source": [
    "customers = [\n",
    "    dict(id=1, total=200, coupon_code=\"F20\"),  # F20: fixed, £20\n",
    "    dict(id=2, total=150, coupon_code=\"P30\"),  # P30: percent, 30%\n",
    "    dict(id=3, total=100, coupon_code=\"P50\"),  # P50: percent, 50%\n",
    "    dict(id=4, total=110, coupon_code=\"F15\"),  # F15: fixed, £15\n",
    "]\n",
    "\n",
    "discounts = {\n",
    "    \"F20\": (0.0, 20.0),  # each value is (percent, fixed)\n",
    "    \"P30\": (0.3, 0.0),\n",
    "    \"P50\": (0.5, 0.0),\n",
    "    \"F15\": (0.0, 15.0),\n",
    "}\n",
    "\n",
    "for customer in customers:\n",
    "    code = customer[\"coupon_code\"]\n",
    "    percent, fixed = discounts.get(code, (0.0, 0.0))\n",
    "    customer[\"discount\"] = percent * customer[\"total\"] + fixed\n",
    "for customer in customers:\n",
    "    print(customer[\"id\"], customer[\"total\"], customer[\"discount\"])"
   ]
  },
  {
   "cell_type": "markdown",
   "metadata": {},
   "source": [
    "## (6) A quick peek at the itertools module"
   ]
  },
  {
   "cell_type": "markdown",
   "metadata": {},
   "source": [
    "- Itertools: It provides you with three broad categories of iterators. As an introduction, we shall give you a small example of one iterator taken from each category.\n",
    "\n",
    "### a. Infinite iterators\n",
    "\n",
    "- E.G. *count()* iterator"
   ]
  },
  {
   "cell_type": "code",
   "execution_count": 8,
   "metadata": {},
   "outputs": [
    {
     "name": "stdout",
     "output_type": "stream",
     "text": [
      "5, 8, 11, 14, 17, 20, "
     ]
    }
   ],
   "source": [
    "from itertools import count\n",
    "for n in count(5, 3):\n",
    "    if n > 20:\n",
    "        break\n",
    "    print(n, end=\", \")"
   ]
  },
  {
   "cell_type": "markdown",
   "metadata": {},
   "source": [
    "### b. Iterators terminating on the shortest input sequence "
   ]
  },
  {
   "cell_type": "markdown",
   "metadata": {},
   "source": [
    "- E.G. *compress()* iterator\n",
    "\n",
    "**It will simply stop as soon as the shortest iterator is exhausted.** This may seem rather abstract, so let us give you an example using compress(). This iterator takes a sequence of data and a sequence of selectors, yielding only those values from the data sequence that correspond to True values in the selectors sequence."
   ]
  },
  {
   "cell_type": "code",
   "execution_count": null,
   "metadata": {},
   "outputs": [
    {
     "name": "stdout",
     "output_type": "stream",
     "text": [
      "[1, 0, 1, 0, 1, 0, 1, 0, 1, 0, 1, 0, 1, 0, 1, 0, 1, 0, 1, 0]\n"
     ]
    },
    {
     "data": {
      "text/plain": [
       "[0, 2, 4, 6, 8]"
      ]
     },
     "execution_count": 14,
     "metadata": {},
     "output_type": "execute_result"
    }
   ],
   "source": [
    "from itertools import compress\n",
    "data = range(10)\n",
    "even_selector = [1, 0] * 10 # 20 elements\n",
    "print(even_selector)\n",
    "list(compress(data, even_selector))"
   ]
  },
  {
   "cell_type": "code",
   "execution_count": 15,
   "metadata": {},
   "outputs": [
    {
     "name": "stdout",
     "output_type": "stream",
     "text": [
      "[0, 1, 0, 1, 0, 1, 0, 1, 0, 1, 0, 1, 0, 1, 0, 1, 0, 1, 0, 1]\n",
      "[0, 1, 2, 3, 4, 5, 6, 7, 8, 9]\n",
      "[0, 2, 4, 6, 8]\n",
      "[1, 3, 5, 7, 9]\n"
     ]
    }
   ],
   "source": [
    "from itertools import compress\n",
    "data = range(10)\n",
    "even_selector = [1, 0] * 10\n",
    "odd_selector = [0, 1] * 10\n",
    "even_numbers = list(compress(data, even_selector))\n",
    "odd_numbers = list(compress(data, odd_selector))\n",
    "print(odd_selector)\n",
    "print(list(data))\n",
    "print(even_numbers)\n",
    "print(odd_numbers)"
   ]
  },
  {
   "cell_type": "markdown",
   "metadata": {},
   "source": [
    "The code is simple, but notice that instead of using a for loop to iterate over each value that is given back by the compress() calls, we used list(), which does the same, but instead of executing a body of instructions, it puts all the values into a list and returns it."
   ]
  },
  {
   "cell_type": "code",
   "execution_count": 16,
   "metadata": {},
   "outputs": [
    {
     "name": "stdout",
     "output_type": "stream",
     "text": [
      "0\n",
      "2\n",
      "4\n",
      "6\n",
      "8\n"
     ]
    }
   ],
   "source": [
    "for element in compress(data, even_selector):\n",
    "    print(element)"
   ]
  },
  {
   "cell_type": "markdown",
   "metadata": {},
   "source": [
    "### c. Combinatoric generators"
   ]
  },
  {
   "cell_type": "markdown",
   "metadata": {},
   "source": [
    "- E.G. Permutation \n",
    "\n",
    "A permutation, also called an “arrangement number” or “order,” is a rearrangement of the elements of an ordered list S into a one-to-one correspondence with S itself.\n",
    "\n",
    "For example, there are six permutations of ABC: ABC, ACB, BAC, BCA, CAB, and CBA."
   ]
  },
  {
   "cell_type": "code",
   "execution_count": 18,
   "metadata": {},
   "outputs": [
    {
     "data": {
      "text/plain": [
       "[('A', 'B', 'C'),\n",
       " ('A', 'C', 'B'),\n",
       " ('B', 'A', 'C'),\n",
       " ('B', 'C', 'A'),\n",
       " ('C', 'A', 'B'),\n",
       " ('C', 'B', 'A')]"
      ]
     },
     "execution_count": 18,
     "metadata": {},
     "output_type": "execute_result"
    }
   ],
   "source": [
    "from itertools import permutations\n",
    "list(permutations(\"ABC\"))"
   ]
  },
  {
   "cell_type": "markdown",
   "metadata": {},
   "source": [
    "Cf. The module *more-itertools*"
   ]
  }
 ],
 "metadata": {
  "kernelspec": {
   "display_name": "py_prgm_ex",
   "language": "python",
   "name": "python3"
  },
  "language_info": {
   "codemirror_mode": {
    "name": "ipython",
    "version": 3
   },
   "file_extension": ".py",
   "mimetype": "text/x-python",
   "name": "python",
   "nbconvert_exporter": "python",
   "pygments_lexer": "ipython3",
   "version": "3.13.2"
  }
 },
 "nbformat": 4,
 "nbformat_minor": 2
}
