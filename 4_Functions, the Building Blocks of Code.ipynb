{
 "cells": [
  {
   "cell_type": "markdown",
   "metadata": {},
   "source": [
    "# 4. Functions, the Building Blocks of Code \n",
    "\n",
    "- Definition of **Function**: A function is a **block of reusable code** designed to perform **a specific task** or a related group of tasks. \n",
    "\n",
    "## (1) Why use functions? \n",
    "\n",
    "- It allows us to **avoid duplicating** the implementation. \n",
    "- It helps in **splitting** a complex task into smaller blocks of task. \n",
    "- It hides the implementation details from the users.\n",
    "- It improves **traceability**.\n",
    "- It improves **readability**.\n",
    "\n",
    "### a. Reducing code duplication\n",
    "\n",
    "It is important not to duplicate doing the copy and paste every single time we use a block of codes, since **it is inefficient to change all of them when we want to change in that block of codes with a better implementation.**\n",
    "\n",
    "Also, using one function each time, I can assume the same execution for the same kind of job. There cannot be a difference between different script executions, so that whole project will be more **coherent**.\n",
    "\n",
    "### b. Splitting a complex task\n",
    "\n",
    "It is also beneficial to split a longer task into several steps, incapsulating each step in a function for readability, testability and reusability.\n",
    "\n",
    "In any case, a function shouldn't be too long for readability.\n",
    "\n",
    "In that way, it will be easier to debug when there is a bug, and also to modify the procedure - if we want to delete one of the necessary steps, or to add a supplementary step, we just need to delete or add a function, among all the functions.\n",
    "\n",
    "### c. Improving readability \n",
    "\n",
    "### d. Improving traceability \n",
    "\n",
    "How do we trace all the places in which we are performing a same calculation? Coding today is a collaborative task and we cannot be sure that the given calculation has been calculated using only one of all the possible formulas\\. It is going to be difficult. \n",
    "\n",
    "So using always the same function defined for everyone, for the same calculation improves the traceability.\n",
    "\n",
    "## (2) Scopes and name resolution\n"
   ]
  },
  {
   "cell_type": "code",
   "execution_count": 2,
   "metadata": {},
   "outputs": [
    {
     "name": "stdout",
     "output_type": "stream",
     "text": [
      "my_function: 1\n",
      "global: 0\n"
     ]
    }
   ],
   "source": [
    "# scoping.level.1.py\n",
    "def my_function():\n",
    "    test = 1  # this is defined in the local scope of the function\n",
    "    print(\"my_function:\", test)\n",
    "test = 0  # this is defined in the global scope\n",
    "my_function()\n",
    "print(\"global:\", test)"
   ]
  },
  {
   "cell_type": "markdown",
   "metadata": {},
   "source": [
    "It shows the behaviour of the variable *test* in local and global environments.\n",
    "\n",
    "The order of priorization is **LEGB (Local, Enclosing, Global, Built-in)**."
   ]
  },
  {
   "cell_type": "code",
   "execution_count": 7,
   "metadata": {},
   "outputs": [
    {
     "name": "stdout",
     "output_type": "stream",
     "text": [
      "inner: 2\n",
      "outer: 1\n",
      "global: 0\n"
     ]
    }
   ],
   "source": [
    "# scoping.level.2.py\n",
    "def outer():\n",
    "    test = 1  # outer scope\n",
    "    def inner():\n",
    "        test = 2  # inner scope\n",
    "        print(\"inner:\", test)\n",
    "    inner()\n",
    "    print(\"outer:\", test)\n",
    "test = 0  # global scope\n",
    "outer()\n",
    "print(\"global:\", test)"
   ]
  },
  {
   "cell_type": "markdown",
   "metadata": {},
   "source": [
    "When the namespace is different, we do not **overwrite the object from the global scope or of above level."
   ]
  },
  {
   "cell_type": "markdown",
   "metadata": {},
   "source": [
    "### a. The **global** and **nonlocal** statements \n",
    "\n",
    "We can get read access to those names if we use them in a nested scope that does not define them, but we cannot modify them because when we write an assignment instruction, we are actually defining a new name in the current scope.\n",
    "\n",
    "We can use the nonlocal statement to change this behavior. According to the official documentation:\n",
    "\n",
    "The nonlocal statement causes the listed identifiers **to refer to previously bound variables in the nearest enclosing scope excluding globals.** "
   ]
  },
  {
   "cell_type": "code",
   "execution_count": 1,
   "metadata": {},
   "outputs": [
    {
     "name": "stdout",
     "output_type": "stream",
     "text": [
      "inner: 2\n",
      "outer: 2\n",
      "global: 0\n"
     ]
    }
   ],
   "source": [
    "# scoping.level.2.nonlocal.py\n",
    "def outer():\n",
    "    test = 1  # outer scope\n",
    "    def inner():\n",
    "        nonlocal test\n",
    "        test = 2  # nearest enclosing scope (which is 'outer')\n",
    "        print(\"inner:\", test)\n",
    "    inner()\n",
    "    print(\"outer:\", test)\n",
    "test = 0  # global scope\n",
    "outer()\n",
    "print(\"global:\", test)"
   ]
  },
  {
   "cell_type": "markdown",
   "metadata": {},
   "source": [
    " If we removed the nonlocal test line from the inner() function and tried it inside the outer() function, we would get a SyntaxError, because the nonlocal statement works on enclosing scopes, but not in the global one."
   ]
  },
  {
   "cell_type": "code",
   "execution_count": 2,
   "metadata": {},
   "outputs": [
    {
     "name": "stdout",
     "output_type": "stream",
     "text": [
      "inner: 2\n",
      "outer: 1\n",
      "global: 2\n"
     ]
    }
   ],
   "source": [
    "# scoping.level.2.global.py\n",
    "def outer():\n",
    "    test = 1  # outer scope\n",
    "    def inner():\n",
    "        global test\n",
    "        test = 2  # global scope\n",
    "        print(\"inner:\", test)\n",
    "    inner()\n",
    "    print(\"outer:\", test)\n",
    "test = 0  # global scope\n",
    "outer()\n",
    "print(\"global:\", test)"
   ]
  },
  {
   "cell_type": "markdown",
   "metadata": {},
   "source": [
    "## (3) Input parameters\n",
    "\n",
    "- **Function parameters and argument**: Function defines the parameter to input, and arguments are the real value inserted for use as parameters.\n",
    "- **Changing a mutable object**:  It may seem a little bit confusing."
   ]
  },
  {
   "cell_type": "code",
   "execution_count": 3,
   "metadata": {},
   "outputs": [
    {
     "name": "stdout",
     "output_type": "stream",
     "text": [
      "[1, 42, 3]\n"
     ]
    }
   ],
   "source": [
    "# key.points.mutable.py\n",
    "x = [1, 2, 3]\n",
    "def func(x):\n",
    "    x[1] = 42  # this affects the `x` argument!\n",
    "func(x)\n",
    "print(x)  # prints: [1, 42, 3]"
   ]
  },
  {
   "cell_type": "code",
   "execution_count": 4,
   "metadata": {},
   "outputs": [
    {
     "name": "stdout",
     "output_type": "stream",
     "text": [
      "[1, 42, 3]\n"
     ]
    }
   ],
   "source": [
    "# key.points.mutable.assignment.py\n",
    "x = [1, 2, 3]\n",
    "def func(x):\n",
    "    x[1] = 42  # this changes the original `x` argument!\n",
    "    x = \"something else\"  # this points x to a new string object\n",
    "func(x)\n",
    "print(x)  # still prints: [1, 42, 3]"
   ]
  },
  {
   "cell_type": "markdown",
   "metadata": {},
   "source": [
    "### a. Passing arguments\n",
    "\n",
    "There are four different ways of passing arguments to a function: Positional arguments; Keyword arguments; Iterable unpacking; Dictionary unpacking.\n",
    "\n",
    "- Positional arguments:"
   ]
  },
  {
   "cell_type": "code",
   "execution_count": 5,
   "metadata": {},
   "outputs": [
    {
     "name": "stdout",
     "output_type": "stream",
     "text": [
      "1 2 3\n"
     ]
    }
   ],
   "source": [
    "# arguments.positional.py\n",
    "def func(a, b, c):\n",
    "    print(a, b, c)\n",
    "func(1, 2, 3)  # prints: 1 2 3"
   ]
  },
  {
   "cell_type": "markdown",
   "metadata": {},
   "source": [
    "- Keyword arguments:"
   ]
  },
  {
   "cell_type": "code",
   "execution_count": 6,
   "metadata": {},
   "outputs": [
    {
     "name": "stdout",
     "output_type": "stream",
     "text": [
      "1 3 2\n"
     ]
    }
   ],
   "source": [
    "func(a=1, c=2, b=3)"
   ]
  },
  {
   "cell_type": "markdown",
   "metadata": {},
   "source": [
    "We can use both positional and keyword arguments at the same time.\n",
    "\n",
    "Keep in mind, however, that positional arguments always have to be listed before any keyword arguments. "
   ]
  },
  {
   "cell_type": "code",
   "execution_count": 7,
   "metadata": {},
   "outputs": [
    {
     "name": "stdout",
     "output_type": "stream",
     "text": [
      "42 1 2\n"
     ]
    }
   ],
   "source": [
    "func(42, b=1, c=2)"
   ]
  },
  {
   "cell_type": "markdown",
   "metadata": {},
   "source": [
    "- Iterable unpacking\n",
    "\n",
    "Iterable unpacking uses the syntax **\\*iterable_name** to pass the elements of an iterable as positional arguments to a function:"
   ]
  },
  {
   "cell_type": "code",
   "execution_count": 8,
   "metadata": {},
   "outputs": [
    {
     "name": "stdout",
     "output_type": "stream",
     "text": [
      "1 3 -7\n"
     ]
    }
   ],
   "source": [
    "# arguments.unpack.iterable.py\n",
    "def func(a, b, c):\n",
    "    print(a, b, c)\n",
    "values = (1, 3, -7)\n",
    "func(*values)  # equivalent to: func(1, 3, -7)"
   ]
  },
  {
   "cell_type": "markdown",
   "metadata": {},
   "source": [
    "- Dictionary unpacking\n",
    "\n",
    "Dictionary unpacking is to keyword arguments what iterable unpacking is to positional arguments. We use the syntax **\\*\\*dictionary_name** to pass keyword arguments, constructed from the keys and values of a dictionary, to a function:"
   ]
  },
  {
   "cell_type": "code",
   "execution_count": 9,
   "metadata": {},
   "outputs": [
    {
     "name": "stdout",
     "output_type": "stream",
     "text": [
      "42 1 2\n"
     ]
    }
   ],
   "source": [
    "# arguments.unpack.dict.py\n",
    "def func(a, b, c):\n",
    "    print(a, b, c)\n",
    "values = {\"b\": 1, \"c\": 2, \"a\": 42}\n",
    "func(**values)  # equivalent to func(b=1, c=2, a=42)"
   ]
  },
  {
   "cell_type": "code",
   "execution_count": 10,
   "metadata": {},
   "outputs": [
    {
     "name": "stdout",
     "output_type": "stream",
     "text": [
      "1 2 3 4 5 6\n",
      "1 2 3 4 5 6\n",
      "1 2 3 4 5 6\n",
      "1 2 3 4 5 6\n"
     ]
    }
   ],
   "source": [
    "# arguments.combined.py\n",
    "def func(a, b, c, d, e, f):\n",
    "    print(a, b, c, d, e, f)\n",
    "func(1, *(2, 3), f=6, *(4, 5))\n",
    "func(*(1, 2), e=5, *(3, 4), f=6)\n",
    "func(1, **{\"b\": 2, \"c\": 3}, d=4, **{\"e\": 5, \"f\": 6})\n",
    "func(c=3, *(1, 2), **{\"d\": 4}, e=5, **{\"f\": 6})"
   ]
  },
  {
   "cell_type": "markdown",
   "metadata": {},
   "source": [
    "- Optional parameters\n",
    "\n",
    "It is important to note that, with the exception of keyword-only parameters, required parameters must always be to the left of all optional parameters in the function definition."
   ]
  },
  {
   "cell_type": "code",
   "execution_count": 14,
   "metadata": {},
   "outputs": [
    {
     "name": "stdout",
     "output_type": "stream",
     "text": [
      "1 4 88\n",
      "7 5 9\n",
      "42 4 9\n",
      "42 43 44\n"
     ]
    }
   ],
   "source": [
    "# parameters.default.py\n",
    "def func(a, b=4, c=88):\n",
    "    print(a, b, c)\n",
    "func(1)  # prints: 1 4 88\n",
    "func(b=5, a=7, c=9)  # prints: 7 5 9\n",
    "func(42, c=9)  # prints: 42 4 9\n",
    "func(42, 43, 44)  # prints: 42, 43, 44"
   ]
  },
  {
   "cell_type": "markdown",
   "metadata": {},
   "source": [
    "- Variable positional parameters: \n",
    "\n",
    "Sometimes you may prefer not to specify the exact number of positional parameters to a function; Python provides you with the ability to do this by using variable positional parameters. \n",
    "\n",
    "As you can see, **when we define a parameter with an asterisk, \\*, prepended to its name, we are telling Python that this parameter will collect a variable number of positional arguments when the function is called.**"
   ]
  },
  {
   "cell_type": "code",
   "execution_count": 17,
   "metadata": {},
   "outputs": [
    {
     "name": "stdout",
     "output_type": "stream",
     "text": [
      "<class 'tuple'>\n",
      "1\n",
      "-7\n"
     ]
    }
   ],
   "source": [
    "# parameters.variable.positional.py\n",
    "def minimum(*n):\n",
    "    print(type(n))  # n is a tuple\n",
    "    if n:  # explained after the code\n",
    "        mn = n[0]\n",
    "        print(mn)\n",
    "        for value in n[1:]:\n",
    "            if value < mn:\n",
    "                mn = value\n",
    "        print(mn)\n",
    "minimum(1, 3, -7, 9)"
   ]
  },
  {
   "cell_type": "code",
   "execution_count": 21,
   "metadata": {},
   "outputs": [
    {
     "name": "stdout",
     "output_type": "stream",
     "text": [
      "<class 'tuple'>\n",
      "1\n",
      "-10\n"
     ]
    }
   ],
   "source": [
    "minimum(1,3,-8, -7, -10, 9)"
   ]
  },
  {
   "cell_type": "markdown",
   "metadata": {},
   "source": [
    "- Variable keyword parameters"
   ]
  },
  {
   "cell_type": "code",
   "execution_count": 18,
   "metadata": {},
   "outputs": [
    {
     "name": "stdout",
     "output_type": "stream",
     "text": [
      "{'a': 1, 'b': 42}\n",
      "{}\n",
      "{'a': 1, 'b': 46, 'c': 99}\n"
     ]
    }
   ],
   "source": [
    "# parameters.variable.keyword.py\n",
    "def func(**kwargs):\n",
    "    print(kwargs)\n",
    "func(a=1, b=42)  # prints {'a': 1, 'b': 42}\n",
    "func()  # prints {}\n",
    "func(a=1, b=46, c=99) "
   ]
  },
  {
   "cell_type": "markdown",
   "metadata": {},
   "source": [
    "You can see that adding ** in front of the parameter name in the function definition tells Python to use that name to collect **a variable number of keyword parameters**. As in the case of variable positional parameters, each function can have at most one variable keyword parameter—and you cannot specify a default value."
   ]
  },
  {
   "cell_type": "code",
   "execution_count": 27,
   "metadata": {},
   "outputs": [
    {
     "name": "stdout",
     "output_type": "stream",
     "text": [
      "{'host': '127.0.0.1', 'port': 5432, 'user': '', 'pwd': ''}\n",
      "None\n",
      "{'host': '127.0.0.42', 'port': 5433, 'user': '', 'pwd': ''}\n",
      "None\n",
      "{'host': '127.0.0.1', 'port': 5431, 'user': 'fab', 'pwd': 'gandalf'}\n",
      "None\n"
     ]
    }
   ],
   "source": [
    "# parameters.variable.db.py\n",
    "def connect(**options):\n",
    "    conn_params = {\n",
    "        \"host\": options.get(\"host\", \"127.0.0.1\"),\n",
    "        \"port\": options.get(\"port\", 5432),\n",
    "        \"user\": options.get(\"user\", \"\"),\n",
    "        \"pwd\": options.get(\"pwd\", \"\"),\n",
    "    }\n",
    "    print(conn_params)\n",
    "    # we then connect to the db (commented out)\n",
    "    # db.connect(**conn_params)\n",
    "    print(options.get(\"apple\"))\n",
    "connect()\n",
    "connect(host=\"127.0.0.42\", port=5433)\n",
    "connect(port=5431, user=\"fab\", pwd=\"gandalf\")"
   ]
  },
  {
   "cell_type": "code",
   "execution_count": 29,
   "metadata": {},
   "outputs": [
    {
     "name": "stdout",
     "output_type": "stream",
     "text": [
      "{'host': '127.0.0.1', 'port': 5431, 'user': 'fab', 'pwd': 'gandalf'}\n",
      "pomme\n"
     ]
    }
   ],
   "source": [
    "connect(port=5431, user=\"fab\", pwd=\"gandalf\", apple=\"pomme\")"
   ]
  },
  {
   "cell_type": "markdown",
   "metadata": {},
   "source": [
    "- Positional-only parameters: the parameters preceding the sign \\/, are \"Positional-only\" parameters, so it cannot be given by keywords."
   ]
  },
  {
   "cell_type": "code",
   "execution_count": 30,
   "metadata": {},
   "outputs": [
    {
     "name": "stdout",
     "output_type": "stream",
     "text": [
      "1 2 3\n",
      "1 2 3\n"
     ]
    }
   ],
   "source": [
    "# parameters.positional.only.py\n",
    "def func(a, b, /, c):\n",
    "    print(a, b, c)\n",
    "func(1, 2, 3)  # prints: 1 2 3\n",
    "func(1, 2, c=3)  # prints 1 2 3"
   ]
  },
  {
   "cell_type": "code",
   "execution_count": 32,
   "metadata": {},
   "outputs": [
    {
     "ename": "TypeError",
     "evalue": "func() got some positional-only arguments passed as keyword arguments: 'a, b'",
     "output_type": "error",
     "traceback": [
      "\u001b[31m---------------------------------------------------------------------------\u001b[39m",
      "\u001b[31mTypeError\u001b[39m                                 Traceback (most recent call last)",
      "\u001b[36mCell\u001b[39m\u001b[36m \u001b[39m\u001b[32mIn[32]\u001b[39m\u001b[32m, line 1\u001b[39m\n\u001b[32m----> \u001b[39m\u001b[32m1\u001b[39m \u001b[43mfunc\u001b[49m\u001b[43m(\u001b[49m\u001b[43mc\u001b[49m\u001b[43m=\u001b[49m\u001b[32;43m3\u001b[39;49m\u001b[43m,\u001b[49m\u001b[43m \u001b[49m\u001b[43mb\u001b[49m\u001b[43m=\u001b[49m\u001b[32;43m2\u001b[39;49m\u001b[43m,\u001b[49m\u001b[43m \u001b[49m\u001b[43ma\u001b[49m\u001b[43m=\u001b[49m\u001b[32;43m1\u001b[39;49m\u001b[43m)\u001b[49m\n",
      "\u001b[31mTypeError\u001b[39m: func() got some positional-only arguments passed as keyword arguments: 'a, b'"
     ]
    }
   ],
   "source": [
    "func(c=3, b=2, a=1)"
   ]
  },
  {
   "cell_type": "markdown",
   "metadata": {},
   "source": [
    "Positional-only parameters can also be optional."
   ]
  },
  {
   "cell_type": "code",
   "execution_count": 33,
   "metadata": {},
   "outputs": [
    {
     "name": "stdout",
     "output_type": "stream",
     "text": [
      "4 5\n",
      "3 2\n"
     ]
    }
   ],
   "source": [
    "# parameters.positional.only.optional.py\n",
    "def func(a, b=2, /):\n",
    "    print(a, b)\n",
    "func(4, 5)  # prints 4 5\n",
    "func(3)  # prints 3 2"
   ]
  },
  {
   "cell_type": "code",
   "execution_count": 34,
   "metadata": {},
   "outputs": [
    {
     "ename": "TypeError",
     "evalue": "len() takes no keyword arguments",
     "output_type": "error",
     "traceback": [
      "\u001b[31m---------------------------------------------------------------------------\u001b[39m",
      "\u001b[31mTypeError\u001b[39m                                 Traceback (most recent call last)",
      "\u001b[36mCell\u001b[39m\u001b[36m \u001b[39m\u001b[32mIn[34]\u001b[39m\u001b[32m, line 1\u001b[39m\n\u001b[32m----> \u001b[39m\u001b[32m1\u001b[39m \u001b[38;5;28;43mlen\u001b[39;49m\u001b[43m(\u001b[49m\u001b[43mobj\u001b[49m\u001b[43m \u001b[49m\u001b[43m=\u001b[49m\u001b[43m \u001b[49m\u001b[33;43m'\u001b[39;49m\u001b[33;43mhello\u001b[39;49m\u001b[33;43m'\u001b[39;49m\u001b[43m)\u001b[49m\n",
      "\u001b[31mTypeError\u001b[39m: len() takes no keyword arguments"
     ]
    }
   ],
   "source": [
    "len(obj = 'hello')"
   ]
  },
  {
   "cell_type": "code",
   "execution_count": 36,
   "metadata": {},
   "outputs": [
    {
     "ename": "TypeError",
     "evalue": "len() takes no keyword arguments",
     "output_type": "error",
     "traceback": [
      "\u001b[31m---------------------------------------------------------------------------\u001b[39m",
      "\u001b[31mTypeError\u001b[39m                                 Traceback (most recent call last)",
      "\u001b[36mCell\u001b[39m\u001b[36m \u001b[39m\u001b[32mIn[36]\u001b[39m\u001b[32m, line 1\u001b[39m\n\u001b[32m----> \u001b[39m\u001b[32m1\u001b[39m \u001b[38;5;28;43mlen\u001b[39;49m\u001b[43m(\u001b[49m\u001b[43mobj\u001b[49m\u001b[43m=\u001b[49m\u001b[33;43m'\u001b[39;49m\u001b[33;43mhello\u001b[39;49m\u001b[33;43m'\u001b[39;49m\u001b[43m)\u001b[49m\n",
      "\u001b[31mTypeError\u001b[39m: len() takes no keyword arguments"
     ]
    }
   ],
   "source": [
    "len(obj='hello')"
   ]
  },
  {
   "cell_type": "code",
   "execution_count": 38,
   "metadata": {},
   "outputs": [
    {
     "name": "stdout",
     "output_type": "stream",
     "text": [
      "Positional-only name\n",
      "{'name': 'Name in **kwargs', 'apple': 'pomme'}\n"
     ]
    }
   ],
   "source": [
    "def func_name(name, /, **kwargs):\n",
    "    print(name)\n",
    "    print(kwargs)\n",
    "func_name(\"Positional-only name\", name=\"Name in **kwargs\", apple = \"pomme\")"
   ]
  },
  {
   "cell_type": "markdown",
   "metadata": {},
   "source": [
    "- Keyword-only parameters: There are two ways of specifying them, either after the variable positional parameters or after a bare *."
   ]
  },
  {
   "cell_type": "code",
   "execution_count": 40,
   "metadata": {},
   "outputs": [
    {
     "name": "stdout",
     "output_type": "stream",
     "text": [
      "(1, 2, 3) c:7\n",
      "() c:4\n"
     ]
    }
   ],
   "source": [
    "# First way:\n",
    "def kwo(*a, c):\n",
    "    print(a, \"c:\"+str(c))\n",
    "kwo(1, 2, 3, c=7)  \n",
    "kwo(c=4) "
   ]
  },
  {
   "cell_type": "code",
   "execution_count": 44,
   "metadata": {},
   "outputs": [
    {
     "name": "stdout",
     "output_type": "stream",
     "text": [
      "3 7 99\n",
      "3 42 13\n"
     ]
    },
    {
     "ename": "TypeError",
     "evalue": "kwo2() missing 1 required keyword-only argument: 'c'",
     "output_type": "error",
     "traceback": [
      "\u001b[31m---------------------------------------------------------------------------\u001b[39m",
      "\u001b[31mTypeError\u001b[39m                                 Traceback (most recent call last)",
      "\u001b[36mCell\u001b[39m\u001b[36m \u001b[39m\u001b[32mIn[44]\u001b[39m\u001b[32m, line 6\u001b[39m\n\u001b[32m      4\u001b[39m kwo2(\u001b[32m3\u001b[39m, b=\u001b[32m7\u001b[39m, c=\u001b[32m99\u001b[39m)  \u001b[38;5;66;03m# prints: 3 7 99\u001b[39;00m\n\u001b[32m      5\u001b[39m kwo2(\u001b[32m3\u001b[39m, c=\u001b[32m13\u001b[39m) \n\u001b[32m----> \u001b[39m\u001b[32m6\u001b[39m \u001b[43mkwo2\u001b[49m\u001b[43m(\u001b[49m\u001b[32;43m3\u001b[39;49m\u001b[43m,\u001b[49m\u001b[43m \u001b[49m\u001b[32;43m13\u001b[39;49m\u001b[43m)\u001b[49m\n",
      "\u001b[31mTypeError\u001b[39m: kwo2() missing 1 required keyword-only argument: 'c'"
     ]
    }
   ],
   "source": [
    "# Second way:\n",
    "def kwo2(a, b=42, *, c):\n",
    "    print(a, b, c)\n",
    "kwo2(3, b=7, c=99)  # prints: 3 7 99\n",
    "kwo2(3, c=13) \n",
    "kwo2(3, 13)"
   ]
  },
  {
   "cell_type": "code",
   "execution_count": 46,
   "metadata": {},
   "outputs": [
    {
     "name": "stdout",
     "output_type": "stream",
     "text": [
      "a, b, c: 1 2 3\n",
      "args: (5, 7, 9, 11)\n",
      "kwargs: {'A': 'a', 'B': 'b'}\n"
     ]
    }
   ],
   "source": [
    "# parameters.all.py\n",
    "def func(a, b, c=7, *args, **kwargs):\n",
    "    print(\"a, b, c:\", a, b, c)\n",
    "    print(\"args:\", args)\n",
    "    print(\"kwargs:\", kwargs)\n",
    "func(1, 2, 3, 5, 7, 9, 11, A=\"a\", B=\"b\")"
   ]
  },
  {
   "cell_type": "code",
   "execution_count": 47,
   "metadata": {},
   "outputs": [
    {
     "name": "stdout",
     "output_type": "stream",
     "text": [
      "a, b, c: 1 2 3\n",
      "d, e: 256 7\n",
      "args: (4, 5, 6)\n",
      "kwargs: {'f': 9, 'g': 10}\n"
     ]
    }
   ],
   "source": [
    "# parameters.all.pkwonly.py\n",
    "def allparams(a, /, b, c=42, *args, d=256, e, **kwargs):\n",
    "    print(\"a, b, c:\", a, b, c)\n",
    "    print(\"d, e:\", d, e)\n",
    "    print(\"args:\", args)\n",
    "    print(\"kwargs:\", kwargs)\n",
    "allparams(1, 2, 3, 4, 5, 6, e=7, f=9, g=10)"
   ]
  },
  {
   "cell_type": "markdown",
   "metadata": {},
   "source": [
    "Note that we have both positional-only and keyword-only parameters in the function declaration: a is positional-only, while d and e are keyword-only. They come after the *args variable positional argument, and it would be the same if they came right after a single * (in which case there would not be any variable positional parameter)."
   ]
  },
  {
   "cell_type": "code",
   "execution_count": null,
   "metadata": {},
   "outputs": [],
   "source": [
    "def func_name(positional_only_parameters, /,\n",
    "    positional_or_keyword_parameters, *,\n",
    "    keyword_only_parameters):\n",
    "    "
   ]
  },
  {
   "cell_type": "markdown",
   "metadata": {},
   "source": [
    "## (4) Return values"
   ]
  },
  {
   "cell_type": "code",
   "execution_count": null,
   "metadata": {},
   "outputs": [
    {
     "name": "stdout",
     "output_type": "stream",
     "text": [
      "None\n"
     ]
    }
   ],
   "source": [
    "def func():\n",
    "    pass # PASS statement: Null operation, nothing happens when executed\n",
    "func()\n",
    "a = func()\n",
    "print(a)"
   ]
  },
  {
   "cell_type": "code",
   "execution_count": 3,
   "metadata": {},
   "outputs": [
    {
     "data": {
      "text/plain": [
       "120"
      ]
     },
     "execution_count": 3,
     "metadata": {},
     "output_type": "execute_result"
    }
   ],
   "source": [
    "def factorial(n):\n",
    "    if n in (0,1):\n",
    "        return 1\n",
    "    result = n \n",
    "    for k in range(2,n):\n",
    "        result *= k \n",
    "    return result\n",
    "\n",
    "factorial(5)"
   ]
  },
  {
   "cell_type": "markdown",
   "metadata": {},
   "source": [
    "- In a more elegant way:"
   ]
  },
  {
   "cell_type": "code",
   "execution_count": 5,
   "metadata": {},
   "outputs": [
    {
     "data": {
      "text/plain": [
       "120"
      ]
     },
     "execution_count": 5,
     "metadata": {},
     "output_type": "execute_result"
    }
   ],
   "source": [
    "# return.single.value.2.py\n",
    "from functools import reduce\n",
    "from operator import mul\n",
    "def factorial(n):\n",
    "    return reduce(mul, range(1, n + 1), 1)\n",
    "factorial(5)"
   ]
  },
  {
   "cell_type": "markdown",
   "metadata": {},
   "source": [
    "**functools.reduce**: Apply function of two arguments cumulatively to the items of iterable, from left to right, so as to reduce the iterable to a single value. For example, reduce(lambda x, y: x+y, [1, 2, 3, 4, 5]) calculates ((((1+2)+3)+4)+5). The left argument, x, is the accumulated value and the right argument, y, is the update value from the iterable. If the optional initial is present, it is placed before the items of the iterable in the calculation, and serves as a default when the iterable is empty. If initial is not given and iterable contains only one item, the first item is returned.\n",
    "\n",
    "### a. Returning multiple values"
   ]
  },
  {
   "cell_type": "code",
   "execution_count": 6,
   "metadata": {},
   "outputs": [
    {
     "name": "stdout",
     "output_type": "stream",
     "text": [
      "(2, 6)\n"
     ]
    }
   ],
   "source": [
    "def moddiv(a,b):\n",
    "    return a//b, a%b\n",
    "print(moddiv(20,7))"
   ]
  },
  {
   "cell_type": "markdown",
   "metadata": {},
   "source": [
    "## (5) A few useful tips\n",
    "\n",
    "- Functions should do **ONE THING**: if there are more than one thing done in a function, it is better to split it into functions, with each function doing one job at the same time.\n",
    "\n",
    "- Functions should be **SMALL**: write it not too long for an easier debug and reading\n",
    "\n",
    "- The **FEWER** input parameters, the better: functions that take a lot of parameters quickly become hard to manage. \n",
    "\n",
    "- Functions should be **consistent** in their return values\n",
    "\n",
    "- Functions should have **no side effects** (=pure functions): (i) one-to-one relation between the input and the output (same input gives always the same output. The function's output doesn't depend on any external or global state) (ii) they do not alter any external state - do not modify global variables & do not make any IO operations (reading or writing files)"
   ]
  },
  {
   "cell_type": "markdown",
   "metadata": {},
   "source": [
    "(!) C.f. **Function** and **Method**:\n",
    "\n",
    "- Method is a function that belongs to an object and therefore has the right to modify the object itself."
   ]
  },
  {
   "cell_type": "code",
   "execution_count": null,
   "metadata": {},
   "outputs": [
    {
     "name": "stdout",
     "output_type": "stream",
     "text": [
      "[1, 4, 5, 7]\n",
      "[4, 1, 7, 5]\n",
      "None\n",
      "[1, 4, 5, 7]\n"
     ]
    }
   ],
   "source": [
    "numbers = [4, 1, 7, 5]\n",
    "print(sorted(numbers)) # 'sorted' function executed on the input 'numbers'\n",
    "print(numbers) # So the original object 'number' is not modified.\n",
    "numbers.sort() # 'sort' method from the object type list.\n",
    "print(numbers)"
   ]
  },
  {
   "cell_type": "markdown",
   "metadata": {},
   "source": [
    "## (6) Recursive functions\n",
    "\n",
    "When a function calls itself to produce a result, it is said to be recursive.\n",
    "\n",
    "The body of a recursive function usually has two sections: one where the return value depends on a subsequent call to itself (Recursive Case), and one where it does not (called the Base Case)."
   ]
  },
  {
   "cell_type": "code",
   "execution_count": 11,
   "metadata": {},
   "outputs": [],
   "source": [
    "# recursive.factorial.py\n",
    "def factorial_2(n):\n",
    "    if n in (0, 1):  # base case\n",
    "        return 1\n",
    "    return factorial_2(n - 1) * n  # recursive case"
   ]
  },
  {
   "cell_type": "code",
   "execution_count": 14,
   "metadata": {},
   "outputs": [
    {
     "data": {
      "text/plain": [
       "120"
      ]
     },
     "execution_count": 14,
     "metadata": {},
     "output_type": "execute_result"
    }
   ],
   "source": [
    "factorial_2(5)"
   ]
  },
  {
   "cell_type": "markdown",
   "metadata": {},
   "source": [
    "When writing recursive functions, always consider how many nested calls you make, since there is a limit. For further information on this, check out *sys.getrecursionlimit()* and *sys.setrecursionlimit()*:"
   ]
  },
  {
   "cell_type": "code",
   "execution_count": 16,
   "metadata": {},
   "outputs": [
    {
     "data": {
      "text/plain": [
       "3000"
      ]
     },
     "execution_count": 16,
     "metadata": {},
     "output_type": "execute_result"
    }
   ],
   "source": [
    "import sys\n",
    "sys.getrecursionlimit()"
   ]
  },
  {
   "cell_type": "markdown",
   "metadata": {},
   "source": [
    "## (7) Anonymous functions\n",
    "\n",
    "Also called **lambdas** in Python, these functions are usually used when a fully-fledged function with its own name would be overkill, and all we want is a quick, simple one-liner."
   ]
  },
  {
   "cell_type": "code",
   "execution_count": 17,
   "metadata": {},
   "outputs": [],
   "source": [
    "# filter.regular.py\n",
    "def is_multiple_of_five(n):\n",
    "    return not n % 5\n",
    "def get_multiples_of_five(n):\n",
    "    return list(filter(is_multiple_of_five, range(n)))"
   ]
  },
  {
   "cell_type": "code",
   "execution_count": 19,
   "metadata": {},
   "outputs": [
    {
     "data": {
      "text/plain": [
       "[0, 5, 10, 15, 20, 25, 30, 35, 40, 45, 50, 55, 60, 65, 70, 75, 80, 85, 90, 95]"
      ]
     },
     "execution_count": 19,
     "metadata": {},
     "output_type": "execute_result"
    }
   ],
   "source": [
    "get_multiples_of_five(100)"
   ]
  },
  {
   "cell_type": "code",
   "execution_count": 20,
   "metadata": {},
   "outputs": [],
   "source": [
    "# filter.lambda.py\n",
    "def get_multiples_of_five(n):\n",
    "    return list(filter(lambda k: not k % 5, range(n)))"
   ]
  },
  {
   "cell_type": "code",
   "execution_count": 21,
   "metadata": {},
   "outputs": [
    {
     "data": {
      "text/plain": [
       "[0, 5, 10, 15, 20, 25, 30, 35, 40, 45, 50, 55, 60, 65, 70, 75, 80, 85, 90, 95]"
      ]
     },
     "execution_count": 21,
     "metadata": {},
     "output_type": "execute_result"
    }
   ],
   "source": [
    "get_multiples_of_five(100)"
   ]
  },
  {
   "cell_type": "markdown",
   "metadata": {},
   "source": [
    "- How to define a Lambda function?\n",
    "\n",
    "func_name = lambda [parameter_list]: expression to return"
   ]
  },
  {
   "cell_type": "code",
   "execution_count": 22,
   "metadata": {},
   "outputs": [],
   "source": [
    "# lambda.explained.py\n",
    "# example 1: adder\n",
    "def adder(a, b):\n",
    "    return a + b\n",
    "# is equivalent to:\n",
    "adder_lambda = lambda a, b: a + b\n",
    "# example 2: to uppercase\n",
    "def to_upper(s):\n",
    "    return s.upper()\n",
    "# is equivalent to:\n",
    "to_upper_lambda = lambda s: s.upper()"
   ]
  },
  {
   "cell_type": "code",
   "execution_count": 27,
   "metadata": {},
   "outputs": [
    {
     "name": "stdout",
     "output_type": "stream",
     "text": [
      "7\n",
      "HELLO\n"
     ]
    }
   ],
   "source": [
    "print(adder_lambda(3,4))\n",
    "print(to_upper_lambda(\"hello\"))"
   ]
  },
  {
   "cell_type": "markdown",
   "metadata": {},
   "source": [
    "## (8) Function attributes"
   ]
  },
  {
   "cell_type": "code",
   "execution_count": null,
   "metadata": {},
   "outputs": [
    {
     "name": "stdout",
     "output_type": "stream",
     "text": [
      "__doc__ -> None\n",
      "__name__ -> multiplication\n",
      "__qualname__ -> multiplication\n",
      "__module__ -> __main__\n",
      "__defaults__ -> (1,)\n",
      "__code__ -> <code object multiplication at 0x1142f9df0, file \"/var/folders/6b/16jtbq3j6w17kqv1h2k9_zt80000gn/T/ipykernel_78468/3946377839.py\", line 1>\n",
      "__globals__ -> {'__name__': '__main__', '__doc__': 'Automatically created module for IPython interactive environment', '__package__': None, '__loader__': None, '__spec__': None, '__builtin__': <module 'builtins' (built-in)>, '__builtins__': <module 'builtins' (built-in)>, '_ih': ['', 'def multiplication(a, b=1):\\n    return a*b\\n\\nif __name__ == \"__main__\":\\n    special_attributes = [\\n        \"__doc__\",\\n        \"__name__\",\\n        \"__qualname__\",\\n        \"__module__\",\\n        \"__defaults__\",\\n        \"__code__\",\\n        \"__globals__\",\\n        \"__dict__\",\\n        \"__closure__\",\\n        \"__annotations__\",\\n        \"__kwdefaults__\",\\n    ]\\n    for attribute in special_attributes:\\n        print(attribute, \"->\", getattr(multiplication, attribute))'], '_oh': {}, '_dh': [PosixPath('/Users/nayeongkim/Desktop/Python programming')], 'In': ['', 'def multiplication(a, b=1):\\n    return a*b\\n\\nif __name__ == \"__main__\":\\n    special_attributes = [\\n        \"__doc__\",\\n        \"__name__\",\\n        \"__qualname__\",\\n        \"__module__\",\\n        \"__defaults__\",\\n        \"__code__\",\\n        \"__globals__\",\\n        \"__dict__\",\\n        \"__closure__\",\\n        \"__annotations__\",\\n        \"__kwdefaults__\",\\n    ]\\n    for attribute in special_attributes:\\n        print(attribute, \"->\", getattr(multiplication, attribute))'], 'Out': {}, 'get_ipython': <bound method InteractiveShell.get_ipython of <ipykernel.zmqshell.ZMQInteractiveShell object at 0x113f60ec0>>, 'exit': <IPython.core.autocall.ZMQExitAutocall object at 0x113f63380>, 'quit': <IPython.core.autocall.ZMQExitAutocall object at 0x113f63380>, 'open': <function open at 0x112360fe0>, '_': '', '__': '', '___': '', '__vsc_ipynb_file__': '/Users/nayeongkim/Desktop/Python programming/4_Functions, the Building Blocks of Code.ipynb', '_i': '', '_ii': '', '_iii': '', '_i1': 'def multiplication(a, b=1):\\n    return a*b\\n\\nif __name__ == \"__main__\":\\n    special_attributes = [\\n        \"__doc__\",\\n        \"__name__\",\\n        \"__qualname__\",\\n        \"__module__\",\\n        \"__defaults__\",\\n        \"__code__\",\\n        \"__globals__\",\\n        \"__dict__\",\\n        \"__closure__\",\\n        \"__annotations__\",\\n        \"__kwdefaults__\",\\n    ]\\n    for attribute in special_attributes:\\n        print(attribute, \"->\", getattr(multiplication, attribute))', 'multiplication': <function multiplication at 0x1142ae660>, 'special_attributes': ['__doc__', '__name__', '__qualname__', '__module__', '__defaults__', '__code__', '__globals__', '__dict__', '__closure__', '__annotations__', '__kwdefaults__'], 'attribute': '__globals__'}\n",
      "__dict__ -> {}\n",
      "__closure__ -> None\n",
      "__annotations__ -> {}\n",
      "__kwdefaults__ -> None\n"
     ]
    }
   ],
   "source": [
    "def multiplication(a, b=1):\n",
    "    return a*b\n",
    "\n",
    "if __name__ == \"__main__\": \n",
    "    \n",
    "    # The “if __ name __ == '__ main __'” statement in Python \n",
    "    # checks if the current script is being run directly as the main program, \n",
    "    # or if it’s being imported as a module into another program. \n",
    "    # __name__ is a variable that exists in every Python module, \n",
    "    # and is set to the name of the module. \n",
    "    # __main__ is the name of the Python environment \n",
    "    # where top-level code is run \n",
    "    # (with top-level code being the first user-specified module to start running). \n",
    "    \n",
    "    special_attributes = [\n",
    "        \"__doc__\",\n",
    "        \"__name__\",\n",
    "        \"__qualname__\",\n",
    "        \"__module__\",\n",
    "        \"__defaults__\",\n",
    "        \"__code__\",\n",
    "        \"__globals__\",\n",
    "        \"__dict__\",\n",
    "        \"__closure__\",\n",
    "        \"__annotations__\",\n",
    "        \"__kwdefaults__\",\n",
    "    ]\n",
    "    for attribute in special_attributes:\n",
    "        print(attribute, \"->\", getattr(multiplication, attribute))"
   ]
  },
  {
   "cell_type": "markdown",
   "metadata": {},
   "source": [
    "## (9) Documenting codes\n",
    "\n",
    "Python is documented with strings, which are aptly called **docstrings**. Any object can be documented, and we can use either one-line or multi-line docstrings. One-liners are very simple. They should not provide another signature for the function, but instead state its purpose:"
   ]
  },
  {
   "cell_type": "code",
   "execution_count": null,
   "metadata": {},
   "outputs": [],
   "source": [
    "# docstrings.py\n",
    "def square(n):\n",
    "    \"\"\"Return the square of a number n.\"\"\"\n",
    "    return n**2\n",
    "def get_username(userid):\n",
    "    \"\"\"Return the username of a user given their id.\"\"\"\n",
    "    return db.get(user_id=userid).username"
   ]
  },
  {
   "cell_type": "code",
   "execution_count": null,
   "metadata": {},
   "outputs": [],
   "source": [
    "def connect(host, port, user, password):\n",
    "    \"\"\"Connect to a database.\n",
    "    Connect to a PostgreSQL database directly, using the given\n",
    "    parameters.\n",
    "    :param host: The host IP.\n",
    "    :param port: The desired port.\n",
    "    :param user: The connection username.\n",
    "    :param password: The connection password.\n",
    "    :return: The connection object.\n",
    "    \"\"\"\n",
    "    # body of the function here...\n",
    "    return connection"
   ]
  },
  {
   "cell_type": "markdown",
   "metadata": {},
   "source": [
    "Sphinx is a document generator from python codes. Respecting some rules in comments, we can render the scripts in a specific format.\n",
    "\n",
    "https://www.sphinx-doc.org/en/master/tutorial/index.html\n",
    "\n",
    "Sphinx is one of the most widely used tools for creating Python documentation—in fact, the official Python documentation was written with it. It is definitely worth spending some time checking it out."
   ]
  },
  {
   "cell_type": "markdown",
   "metadata": {},
   "source": [
    "## (10) Importing objects\n",
    "\n",
    "import module_name\n",
    "\n",
    "from module_name import function_name\n",
    "\n",
    "from module_name import function_name as func1\n",
    "\n",
    "- Relative import\n",
    "\n",
    "Relative imports are done by adding as many leading dots in front of the module as the number of folders we need to backtrack, to find what we are searching for. "
   ]
  }
 ],
 "metadata": {
  "kernelspec": {
   "display_name": "py_prgm_ex",
   "language": "python",
   "name": "python3"
  },
  "language_info": {
   "codemirror_mode": {
    "name": "ipython",
    "version": 3
   },
   "file_extension": ".py",
   "mimetype": "text/x-python",
   "name": "python",
   "nbconvert_exporter": "python",
   "pygments_lexer": "ipython3",
   "version": "3.13.2"
  }
 },
 "nbformat": 4,
 "nbformat_minor": 2
}
