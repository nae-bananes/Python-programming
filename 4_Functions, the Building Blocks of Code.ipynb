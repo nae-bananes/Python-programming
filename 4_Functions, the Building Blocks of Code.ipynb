{
 "cells": [
  {
   "cell_type": "markdown",
   "metadata": {},
   "source": [
    "# 4. Functions, the Building Blocks of Code \n",
    "\n",
    "- Definition of **Function**: A function is a **block of reusable code** designed to perform **a specific task** or a related group of tasks. \n",
    "\n",
    "## (1) Why use functions? \n",
    "\n",
    "- It allows us to **avoid duplicating** the implementation. \n",
    "- It helps in **splitting** a complex task into smaller blocks of task. \n",
    "- It hides the implementation details from the users.\n",
    "- It improves **traceability**.\n",
    "- It improves **readability**.\n",
    "\n",
    "### a. Reducing code duplication\n",
    "\n",
    "It is important not to duplicate doing the copy and paste every single time we use a block of codes, since **it is inefficient to change all of them when we want to change in that block of codes with a better implementation.**\n",
    "\n",
    "Also, using one function each time, I can assume the same execution for the same kind of job. There cannot be a difference between different script executions, so that whole project will be more **coherent**.\n",
    "\n",
    "### b. Splitting a complex task\n",
    "\n",
    "It is also beneficial to split a longer task into several steps, incapsulating each step in a function for readability, testability and reusability.\n",
    "\n",
    "In any case, a function shouldn't be too long for readability.\n",
    "\n",
    "In that way, it will be easier to debug when there is a bug, and also to modify the procedure - if we want to delete one of the necessary steps, or to add a supplementary step, we just need to delete or add a function, among all the functions.\n",
    "\n",
    "### c. Improving readability \n",
    "\n",
    "### d. Improving traceability \n",
    "\n",
    "How do we trace all the places in which we are performing a same calculation? Coding today is a collaborative task and we cannot be sure that the given calculation has been calculated using only one of all the possible formulas\\. It is going to be difficult. \n",
    "\n",
    "So using always the same function defined for everyone, for the same calculation improves the traceability.\n",
    "\n",
    "## (2) Scopes and name resolution\n"
   ]
  },
  {
   "cell_type": "code",
   "execution_count": 2,
   "metadata": {},
   "outputs": [
    {
     "name": "stdout",
     "output_type": "stream",
     "text": [
      "my_function: 1\n",
      "global: 0\n"
     ]
    }
   ],
   "source": [
    "# scoping.level.1.py\n",
    "def my_function():\n",
    "    test = 1  # this is defined in the local scope of the function\n",
    "    print(\"my_function:\", test)\n",
    "test = 0  # this is defined in the global scope\n",
    "my_function()\n",
    "print(\"global:\", test)"
   ]
  },
  {
   "cell_type": "markdown",
   "metadata": {},
   "source": [
    "It shows the behaviour of the variable *test* in local and global environments.\n",
    "\n",
    "The order of priorization is **LEGB (Local, Enclosing, Global, Built-in)**."
   ]
  },
  {
   "cell_type": "code",
   "execution_count": 7,
   "metadata": {},
   "outputs": [
    {
     "name": "stdout",
     "output_type": "stream",
     "text": [
      "inner: 2\n",
      "outer: 1\n",
      "global: 0\n"
     ]
    }
   ],
   "source": [
    "# scoping.level.2.py\n",
    "def outer():\n",
    "    test = 1  # outer scope\n",
    "    def inner():\n",
    "        test = 2  # inner scope\n",
    "        print(\"inner:\", test)\n",
    "    inner()\n",
    "    print(\"outer:\", test)\n",
    "test = 0  # global scope\n",
    "outer()\n",
    "print(\"global:\", test)"
   ]
  },
  {
   "cell_type": "markdown",
   "metadata": {},
   "source": [
    "### a. The global and nonlocal statements \n",
    "\n"
   ]
  }
 ],
 "metadata": {
  "kernelspec": {
   "display_name": "py_prgm_ex",
   "language": "python",
   "name": "python3"
  },
  "language_info": {
   "codemirror_mode": {
    "name": "ipython",
    "version": 3
   },
   "file_extension": ".py",
   "mimetype": "text/x-python",
   "name": "python",
   "nbconvert_exporter": "python",
   "pygments_lexer": "ipython3",
   "version": "3.13.2"
  }
 },
 "nbformat": 4,
 "nbformat_minor": 2
}
