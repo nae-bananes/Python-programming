{
 "cells": [
  {
   "cell_type": "markdown",
   "metadata": {},
   "source": [
    "# Comprehensions and generators \n",
    "\n",
    "Iterators save memory by only operating on a single element of a collection at a time rather than creating a modified copy. As a result, some extra work is needed if we just want to show the result of the operation. We will often resort to wrapping the iterator in a list() constructor.\n",
    "\n",
    "This is because passing an iterator to list() exhausts it and puts all the generated items in a newly created list, which we can easily print to show you its content. "
   ]
  },
  {
   "cell_type": "markdown",
   "metadata": {},
   "source": [
    "## (1) The map, zip and filter functions\n",
    "\n",
    "Map, Zip, Filter: the main built-in functions you can employ when handling collections, and then we will learn how to achieve the same results using two important constructs: comprehensions and generators.\n",
    "\n",
    "- **MAP()**: Return an iterator that **applies function to every item of iterable**, yielding the results. If additional iterables arguments are passed, function must take that many arguments and is applied to the items from all iterables in parallel. With multiple iterables, the iterator stops when the shortest iterable is exhausted."
   ]
  },
  {
   "cell_type": "code",
   "execution_count": 2,
   "metadata": {},
   "outputs": [
    {
     "data": {
      "text/plain": [
       "[(0,), (1,), (2,)]"
      ]
     },
     "execution_count": 2,
     "metadata": {},
     "output_type": "execute_result"
    }
   ],
   "source": [
    "list(map(lambda *a: a, range(3)))"
   ]
  },
  {
   "cell_type": "code",
   "execution_count": 3,
   "metadata": {},
   "outputs": [
    {
     "data": {
      "text/plain": [
       "[(0, 'a'), (1, 'b'), (2, 'c')]"
      ]
     },
     "execution_count": 3,
     "metadata": {},
     "output_type": "execute_result"
    }
   ],
   "source": [
    "list(map(lambda *a: a, range(3), \"abc\"))"
   ]
  },
  {
   "cell_type": "code",
   "execution_count": null,
   "metadata": {},
   "outputs": [
    {
     "data": {
      "text/plain": [
       "[(0, 'a', 4), (1, 'b', 5)]"
      ]
     },
     "execution_count": 7,
     "metadata": {},
     "output_type": "execute_result"
    }
   ],
   "source": [
    "list(map(lambda *a: a, range(3), \"abc\", range(4,6))) # MAP stops at the shortest iterable"
   ]
  },
  {
   "cell_type": "markdown",
   "metadata": {},
   "source": []
  },
  {
   "cell_type": "markdown",
   "metadata": {},
   "source": [
    "- Decorate-sort-Undecorate method (Schwartzian transformation)"
   ]
  },
  {
   "cell_type": "code",
   "execution_count": 16,
   "metadata": {},
   "outputs": [
    {
     "name": "stdout",
     "output_type": "stream",
     "text": [
      "dict_keys(['math', 'physics', 'history'])\n",
      "dict_values([9, 6, 7])\n"
     ]
    }
   ],
   "source": [
    "dic1=dict(id=0, credits=dict(math=9, physics=6, history=7))\n",
    "print(dic1[\"credits\"].keys())\n",
    "print(dic1[\"credits\"].values())"
   ]
  },
  {
   "cell_type": "code",
   "execution_count": 19,
   "metadata": {},
   "outputs": [
    {
     "name": "stdout",
     "output_type": "stream",
     "text": [
      "{'id': 0, 'credits': {'math': 9, 'physics': 6, 'history': 7}}\n",
      "(22, {'id': 0, 'credits': {'math': 9, 'physics': 6, 'history': 7}})\n",
      "==\n",
      "[{'credits': {'chemistry': 10, 'history': 8, 'physics': 9}, 'id': 2},\n",
      " {'credits': {'latin': 10, 'math': 6, 'physics': 7}, 'id': 1},\n",
      " {'credits': {'history': 7, 'math': 9, 'physics': 6}, 'id': 0},\n",
      " {'credits': {'geography': 7, 'math': 5, 'physics': 5}, 'id': 3}]\n"
     ]
    }
   ],
   "source": [
    "# decorate.sort.undecorate.py\n",
    "from pprint import pprint # Pretty-printer\n",
    "\n",
    "students = [\n",
    "    dict(id=0, credits=dict(math=9, physics=6, history=7)),\n",
    "    dict(id=1, credits=dict(math=6, physics=7, latin=10)),\n",
    "    dict(id=2, credits=dict(history=8, physics=9, chemistry=10)),\n",
    "    dict(id=3, credits=dict(math=5, physics=5, geography=7)),\n",
    "]\n",
    "def decorate(student):\n",
    "    # create a 2-tuple (sum of credits, student) from student dict\n",
    "    return (sum(student[\"credits\"].values()), student)\n",
    "\n",
    "def undecorate(decorated_student):\n",
    "    # discard sum of credits, return original student dict\n",
    "    return decorated_student[1]\n",
    "\n",
    "print(students[0])\n",
    "print(decorate(students[0]))\n",
    "print(\"==\")\n",
    "students = sorted(map(decorate, students), reverse=True)\n",
    "students = list(map(undecorate, students))\n",
    "pprint(students)"
   ]
  },
  {
   "cell_type": "markdown",
   "metadata": {},
   "source": [
    "- **ZIP()**: zip(*iterables, strict=False)\n",
    "...\n",
    "returns an iterator of tuples, where the i-th tuple contains the i-th element from each of the argument iterables.\n",
    "Another way to think of zip() is that it turns rows into columns, and columns into rows. This is similar to transposing a matrix."
   ]
  },
  {
   "cell_type": "code",
   "execution_count": 1,
   "metadata": {},
   "outputs": [
    {
     "data": {
      "text/plain": [
       "[(22, 18), (21, 23), (29, 30), (24, 27)]"
      ]
     },
     "execution_count": 1,
     "metadata": {},
     "output_type": "execute_result"
    }
   ],
   "source": [
    "grades = [18, 23, 30, 27]\n",
    "avgs = [22, 21, 29, 24]\n",
    "list(zip(avgs, grades))"
   ]
  },
  {
   "cell_type": "code",
   "execution_count": 2,
   "metadata": {},
   "outputs": [
    {
     "data": {
      "text/plain": [
       "[(22, 18), (21, 23), (29, 30), (24, 27)]"
      ]
     },
     "execution_count": 2,
     "metadata": {},
     "output_type": "execute_result"
    }
   ],
   "source": [
    "list(map(lambda *a: a, avgs, grades))  # equivalent to zip"
   ]
  },
  {
   "cell_type": "markdown",
   "metadata": {},
   "source": [
    "- 'strict=True' option for data entry error while using **ZIP()**\n",
    "\n",
    "If zip() receives **strict=True** as an argument, it raises an exception if the iterables do not all have the same length.\n",
    "\n",
    "The itertools module also provides a zip_longest() function. It behaves like zip() but stops only when the longest iterable is exhausted. Shorter iterables are padded with a value that can be specified as an argument, which defaults to None."
   ]
  },
  {
   "cell_type": "code",
   "execution_count": 3,
   "metadata": {},
   "outputs": [
    {
     "data": {
      "text/plain": [
       "{'Sophie': 'A', 'Alex': 'C', 'Charlie': 'B'}"
      ]
     },
     "execution_count": 3,
     "metadata": {},
     "output_type": "execute_result"
    }
   ],
   "source": [
    "students = [\"Sophie\", \"Alex\", \"Charlie\", \"Alice\"]\n",
    "grades = [\"A\", \"C\", \"B\"]\n",
    "dict(zip(students, grades))"
   ]
  },
  {
   "cell_type": "code",
   "execution_count": 4,
   "metadata": {},
   "outputs": [
    {
     "ename": "ValueError",
     "evalue": "zip() argument 2 is shorter than argument 1",
     "output_type": "error",
     "traceback": [
      "\u001b[31m---------------------------------------------------------------------------\u001b[39m",
      "\u001b[31mValueError\u001b[39m                                Traceback (most recent call last)",
      "\u001b[36mCell\u001b[39m\u001b[36m \u001b[39m\u001b[32mIn[4]\u001b[39m\u001b[32m, line 1\u001b[39m\n\u001b[32m----> \u001b[39m\u001b[32m1\u001b[39m \u001b[38;5;28;43mdict\u001b[39;49m\u001b[43m(\u001b[49m\u001b[38;5;28;43mzip\u001b[39;49m\u001b[43m(\u001b[49m\u001b[43mstudents\u001b[49m\u001b[43m,\u001b[49m\u001b[43m \u001b[49m\u001b[43mgrades\u001b[49m\u001b[43m,\u001b[49m\u001b[43m \u001b[49m\u001b[43mstrict\u001b[49m\u001b[43m \u001b[49m\u001b[43m=\u001b[49m\u001b[43m \u001b[49m\u001b[38;5;28;43;01mTrue\u001b[39;49;00m\u001b[43m)\u001b[49m\u001b[43m)\u001b[49m\n",
      "\u001b[31mValueError\u001b[39m: zip() argument 2 is shorter than argument 1"
     ]
    }
   ],
   "source": [
    "dict(zip(students, grades, strict = True))"
   ]
  },
  {
   "cell_type": "markdown",
   "metadata": {},
   "source": [
    "- **FILTER()**\n",
    "\n",
    "Construct an iterator from those elements of iterable for which **the function is true**. iterable may be either a sequence, a container which supports iteration, or an iterator. If **the given function is None, the identity function is assumed**, that is, **all elements of iterable that are false are removed.**"
   ]
  },
  {
   "cell_type": "code",
   "execution_count": 6,
   "metadata": {},
   "outputs": [
    {
     "data": {
      "text/plain": [
       "[2, 5, 8, 1]"
      ]
     },
     "execution_count": 6,
     "metadata": {},
     "output_type": "execute_result"
    }
   ],
   "source": [
    "test = [2, 5, 8, 0, 0, 1, 0]\n",
    "list(filter(None, test))"
   ]
  },
  {
   "cell_type": "code",
   "execution_count": 7,
   "metadata": {},
   "outputs": [
    {
     "data": {
      "text/plain": [
       "[2, 5, 8, 1]"
      ]
     },
     "execution_count": 7,
     "metadata": {},
     "output_type": "execute_result"
    }
   ],
   "source": [
    "list(filter(lambda x: x, test))  # equivalent to previous one"
   ]
  },
  {
   "cell_type": "markdown",
   "metadata": {},
   "source": [
    "Notice how the second call to filter() is equivalent to the first one. If we pass a function that takes one argument and returns the argument itself, only those arguments that are True will make the function return True. This behavior is the same as passing None."
   ]
  },
  {
   "cell_type": "code",
   "execution_count": 9,
   "metadata": {},
   "outputs": [
    {
     "data": {
      "text/plain": [
       "[5, 8]"
      ]
     },
     "execution_count": 9,
     "metadata": {},
     "output_type": "execute_result"
    }
   ],
   "source": [
    "list(filter(lambda x: x > 4, test))"
   ]
  },
  {
   "cell_type": "markdown",
   "metadata": {},
   "source": [
    "## (2) Comprehensions\n",
    "\n",
    "- **Comprehension**: A comprehension is a concise notation for performing some operation on each element of a collection of objects, and/or selecting a subset of elements that satisfy some condition. \n",
    "They are borrowed from the functional programming language Haskell (https://www.haskell.org/) and, together with iterators and generators, contribute to giving Python a functional flavor. **Python offers several types of comprehensions: list, dictionary, and set.** We will concentrate on list comprehensions; once you understand them, the other types will be easy to grasp.\n",
    "\n",
    "\n",
    "- **List Comprehension**: A list comprehension consists of brackets containing an expression followed by a for clause, then zero or more for or if clauses. The result will be a new list resulting from evaluating the expression in the context of the for and if clauses which follow it.\n",
    "\n",
    "- First Example: Square all the elements of an iterable"
   ]
  },
  {
   "cell_type": "code",
   "execution_count": 12,
   "metadata": {},
   "outputs": [
    {
     "data": {
      "text/plain": [
       "[0, 1, 4, 9, 16, 25, 36, 49, 64, 81]"
      ]
     },
     "execution_count": 12,
     "metadata": {},
     "output_type": "execute_result"
    }
   ],
   "source": [
    "# i. With FOR loop:\n",
    "\n",
    "squares = []\n",
    "for n in range(10):\n",
    "    squares.append(n**2)\n",
    "squares"
   ]
  },
  {
   "cell_type": "code",
   "execution_count": 14,
   "metadata": {},
   "outputs": [
    {
     "data": {
      "text/plain": [
       "[0, 1, 4, 9, 16, 25, 36, 49, 64, 81]"
      ]
     },
     "execution_count": 14,
     "metadata": {},
     "output_type": "execute_result"
    }
   ],
   "source": [
    "# ii. With MAP() function:\n",
    "squares = list(map(lambda n: n**2, range(10)))\n",
    "squares"
   ]
  },
  {
   "cell_type": "code",
   "execution_count": 15,
   "metadata": {},
   "outputs": [
    {
     "data": {
      "text/plain": [
       "[0, 1, 4, 9, 16, 25, 36, 49, 64, 81]"
      ]
     },
     "execution_count": 15,
     "metadata": {},
     "output_type": "execute_result"
    }
   ],
   "source": [
    "# iii. With List Comprehension\n",
    "[n**2 for n in range(10)]"
   ]
  },
  {
   "cell_type": "markdown",
   "metadata": {},
   "source": [
    "- Second Example: Square all the elements of an interable and filter the odd numbers"
   ]
  },
  {
   "cell_type": "code",
   "execution_count": null,
   "metadata": {},
   "outputs": [
    {
     "data": {
      "text/plain": [
       "[0, 4, 16, 36, 64]"
      ]
     },
     "execution_count": 16,
     "metadata": {},
     "output_type": "execute_result"
    }
   ],
   "source": [
    "# i. using map and filter\n",
    "sq1 = list(\n",
    "    map(lambda n: n**2, filter(lambda n: not n % 2, range(10)))\n",
    ")\n",
    "sq1"
   ]
  },
  {
   "cell_type": "code",
   "execution_count": 17,
   "metadata": {},
   "outputs": [
    {
     "data": {
      "text/plain": [
       "[0, 4, 16, 36, 64]"
      ]
     },
     "execution_count": 17,
     "metadata": {},
     "output_type": "execute_result"
    }
   ],
   "source": [
    "sq2 = [n**2 for n in range(10) if not n % 2]\n",
    "sq2"
   ]
  },
  {
   "cell_type": "markdown",
   "metadata": {},
   "source": [
    "### i. **Nested Comprehension**"
   ]
  },
  {
   "cell_type": "markdown",
   "metadata": {},
   "source": [
    "Nested Comprehension is useful to replace the nested loop implementation."
   ]
  },
  {
   "cell_type": "code",
   "execution_count": null,
   "metadata": {},
   "outputs": [
    {
     "data": {
      "text/plain": [
       "[('A', 'A'),\n",
       " ('A', 'B'),\n",
       " ('A', 'C'),\n",
       " ('A', 'D'),\n",
       " ('B', 'B'),\n",
       " ('B', 'C'),\n",
       " ('B', 'D'),\n",
       " ('C', 'C'),\n",
       " ('C', 'D'),\n",
       " ('D', 'D')]"
      ]
     },
     "execution_count": 19,
     "metadata": {},
     "output_type": "execute_result"
    }
   ],
   "source": [
    "# i. Using nested loop:\n",
    "\n",
    "items = \"ABCD\"\n",
    "pairs = []\n",
    "for a in range(len(items)):\n",
    "    for b in range(a, len(items)):\n",
    "        pairs.append((items[a], items[b]))\n",
    "\n",
    "pairs"
   ]
  },
  {
   "cell_type": "code",
   "execution_count": null,
   "metadata": {},
   "outputs": [
    {
     "data": {
      "text/plain": [
       "[('A', 'A'),\n",
       " ('A', 'B'),\n",
       " ('A', 'C'),\n",
       " ('A', 'D'),\n",
       " ('B', 'B'),\n",
       " ('B', 'C'),\n",
       " ('B', 'D'),\n",
       " ('C', 'C'),\n",
       " ('C', 'D'),\n",
       " ('D', 'D')]"
      ]
     },
     "execution_count": 23,
     "metadata": {},
     "output_type": "execute_result"
    }
   ],
   "source": [
    "# ii. Using Nested list comprehension\n",
    "\n",
    "items = \"ABCD\"\n",
    "pairs = [\n",
    "    (items[a], items[b])    \n",
    "    for a in range(len(items))\n",
    "    for b in range(a, len(items))\n",
    "]\n",
    "\n",
    "pairs"
   ]
  },
  {
   "cell_type": "markdown",
   "metadata": {},
   "source": [
    "### ii. **Filtering a comprehension**"
   ]
  },
  {
   "cell_type": "code",
   "execution_count": 30,
   "metadata": {},
   "outputs": [
    {
     "data": {
      "text/plain": [
       "(0, 2, 6)"
      ]
     },
     "execution_count": 30,
     "metadata": {},
     "output_type": "execute_result"
    }
   ],
   "source": [
    "(0,2) + (6,)"
   ]
  },
  {
   "cell_type": "code",
   "execution_count": 32,
   "metadata": {},
   "outputs": [
    {
     "name": "stdout",
     "output_type": "stream",
     "text": [
      "[(3, 4, 5), (6, 8, 10)]\n"
     ]
    }
   ],
   "source": [
    "## List Comprehension:\n",
    "\n",
    "from math import sqrt\n",
    "mx = 10\n",
    "triples = [\n",
    "    (a, b, sqrt(a**2 + b**2))\n",
    "    for a in range(1, mx)\n",
    "    for b in range(a, mx)\n",
    "]\n",
    "\n",
    "## Adding a second part using FILTER and MAP:\n",
    "\n",
    "triples = filter(lambda triple: triple[2].is_integer(), triples)\n",
    "\n",
    "# this will make the third number in the tuples integer\n",
    "triples = list(\n",
    "    map(lambda triple: triple[:2] + (int(triple[2]),), triples)\n",
    ")\n",
    "print(triples)  "
   ]
  },
  {
   "cell_type": "code",
   "execution_count": null,
   "metadata": {},
   "outputs": [
    {
     "data": {
      "text/plain": [
       "[(3, 4, 5), (6, 8, 10)]"
      ]
     },
     "execution_count": 35,
     "metadata": {},
     "output_type": "execute_result"
    }
   ],
   "source": [
    "from math import sqrt\n",
    "# this step is the same as before\n",
    "mx = 10\n",
    "# We can combine generating and filtering in one comprehension\n",
    "triples = [\n",
    "    (a, b, int(c))\n",
    "    for a in range(1, mx)\n",
    "    for b in range(a, mx)\n",
    "    if (c := sqrt(a**2 + b**2)).is_integer() # Using Warlus Operator (Assignment Expression) and the condition IN the list comprehension\n",
    "]\n",
    "triples"
   ]
  },
  {
   "cell_type": "code",
   "execution_count": null,
   "metadata": {},
   "outputs": [
    {
     "data": {
      "text/plain": [
       "[(3, 4, 5), (6, 8, 10)]"
      ]
     },
     "execution_count": 36,
     "metadata": {},
     "output_type": "execute_result"
    }
   ],
   "source": [
    "from math import sqrt\n",
    "# this step is the same as before\n",
    "mx = 10\n",
    "# We can combine generating and filtering in one comprehension\n",
    "triples = [\n",
    "    (a, b, int(sqrt(a**2 + b**2)))\n",
    "    for a in range(1, mx)\n",
    "    for b in range(a, mx)\n",
    "    if (sqrt(a**2 + b**2)).is_integer() # Works also without Warlus Operator \n",
    "]\n",
    "triples"
   ]
  }
 ],
 "metadata": {
  "kernelspec": {
   "display_name": "py_prgm_ex",
   "language": "python",
   "name": "python3"
  },
  "language_info": {
   "codemirror_mode": {
    "name": "ipython",
    "version": 3
   },
   "file_extension": ".py",
   "mimetype": "text/x-python",
   "name": "python",
   "nbconvert_exporter": "python",
   "pygments_lexer": "ipython3",
   "version": "3.13.2"
  }
 },
 "nbformat": 4,
 "nbformat_minor": 2
}
