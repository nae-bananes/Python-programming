{
 "cells": [
  {
   "cell_type": "markdown",
   "metadata": {},
   "source": [
    "# 1. Introduction to Programming in Python"
   ]
  },
  {
   "cell_type": "markdown",
   "metadata": {},
   "source": [
    "## (1) Python programming and OOP\n",
    "\n",
    "**The two key features any object has are properties and methods.** Let us take the example of a person as an object. Typically, in a computer program, you will represent people as customers or employees. The properties that you store against them are things like a name, a social security number, an age, whether they have a driving license, an email, and so on. In a computer program, you store all the data needed in order to use an object for the purpose that needs to be served. \n",
    "\n",
    "So, **properties are characteristics of an object.**\n",
    "\n",
    "**Methods are actions that an object can perform.** As a person, I have methods such as speak, walk, sleep, wake up, eat, dream, write, read, and so on. All the things that I can do could be seen as methods of the objects that represent me.\n",
    "\n",
    "“Objects are Python’s abstraction for data. All data in a Python program is represented by objects or by relations between objects.”\n",
    "\n",
    "Every object in Python has an **ID (or identity), a type, and a value**.\n",
    "\n",
    "Object-Oriented Programming (OOP) is just one of many programming paradigms. In Python, we can write code using a functional or imperative style, as well as object-oriented. However, as we previously stated, **everything in Python is an object, therefore we employ them all the time, regardless of the chosen coding style.**\n",
    "\n",
    "- Mutability:  The value of some objects can change. Such objects are said to be mutable. If the value cannot be changed, the object is said to be immutable.\n"
   ]
  },
  {
   "cell_type": "markdown",
   "metadata": {},
   "source": [
    "## (2) Advantages of Python as programming language\n",
    "\n",
    "- Portability: adaptability for different OS\n",
    "- Coherence: a language which is logical and coherent for guessing the methods even not knowing \n",
    "- Productivity: more efficient code than Java or C++. Needs 1/5 or 1/3 of codes for the same job done, without compilation and linkage steps. \n",
    "- Extensive library: access to Python international community's resources, Python Package Index (PyPI) open-source resources.\n",
    "- Software multiparadigm: OOP, scripting, imperative programming and functional programming styles all possible in Python\n",
    "- A powerful Data Science tool \n",
    "- Satisfaction and enjoyment: Python makes coding fun"
   ]
  },
  {
   "cell_type": "markdown",
   "metadata": {},
   "source": [
    "## (3) Drawbacks of Python as programming language\n",
    "\n",
    "- Execution speed, increased runtime: slower than other compiled programming languages. \n",
    "<-> This speed loss is compensated by the time gained for I/O operations's completion. And nowadays with the aid of parallelizing tasks, it becomes faster. \n",
    "<-> We can still switch to faster Python implementations such as PyPy - it is also used by libraries as pandas and NumPy. (List of Alternative Python implementations, other than PyPy: https://www.python.org/download/alternatives/. We will use CPython implementation here)."
   ]
  },
  {
   "cell_type": "code",
   "execution_count": 6,
   "metadata": {},
   "outputs": [
    {
     "name": "stdout",
     "output_type": "stream",
     "text": [
      "3.13.2 | packaged by conda-forge | (main, Feb 17 2025, 14:02:48) [Clang 18.1.8 ]\n"
     ]
    }
   ],
   "source": [
    "# Python version used in my session\n",
    "import sys\n",
    "print(sys.version)"
   ]
  },
  {
   "cell_type": "markdown",
   "metadata": {},
   "source": [
    "## (4) How is Python code organized?\n",
    "\n",
    "- Module: .py script\n",
    "- Package: a group of multiple modules. A package is nothing more than a folder. \n"
   ]
  },
  {
   "cell_type": "raw",
   "metadata": {
    "vscode": {
     "languageId": "raw"
    }
   },
   "source": [
    "$ tree -v example\n",
    "# I needed to download Homebrew and Tree doing these steps:\n",
    "$ /bin/bash -c \"$(curl -fsSL https://raw.githubusercontent.com/Homebrew/install/HEAD/install.sh)\"\n",
    "# (From Homebrew installation link: https://brew.sh/)\n",
    "# And then \n",
    "$ brew install tree"
   ]
  },
  {
   "cell_type": "markdown",
   "metadata": {},
   "source": [
    "## (5) How do we use modules and packages?\n",
    "\n",
    " - **Don’t repeat yourself (DRY) principle**: this principle states that **you should never repeat the same piece of code more than once in your application.** Despite the DRY principle, we feel the need here to stress the importance of this principle: you should never repeat the same piece of code more than once in your application!\n",
    "\n",
    "\n",
    "\n",
    " - **Why not to repeat?**\n",
    "\n",
    "    There could be a bug in the logic, and therefore you would have to correct it in every copy.\n",
    "\n",
    "    You may want to amend the way you carry out the validation, and again, you would have to change it in every copy.\n",
    "\n",
    "    You may forget to fix or amend a piece of logic because you missed it when searching for all its occurrences. This would leave wrong or inconsistent behavior in your application.\n",
    "\n",
    "    Your code would be longer than needed for no good reason.\n",
    "\n",
    "\n",
    " - **Function**: we need to have a construct that will hold the code for us so that we can call that construct every time we need to repeat the logic inside it. That construct exists, and it is called a function. It is a block of organized, reusable code that is used to perform a task.\n",
    "\n",
    "\n",
    " - **Library**: a collection of functions and objects that provide functionalities to enrich the abilities of a language. \n",
    " \n",
    " Q) Why do we define the library alongside the package? What's the difference between them?"
   ]
  },
  {
   "cell_type": "code",
   "execution_count": 8,
   "metadata": {},
   "outputs": [
    {
     "data": {
      "text/plain": [
       "120"
      ]
     },
     "execution_count": 8,
     "metadata": {},
     "output_type": "execute_result"
    }
   ],
   "source": [
    "from math import factorial \n",
    "factorial(5)"
   ]
  },
  {
   "cell_type": "markdown",
   "metadata": {},
   "source": [
    "## (6) Python's execution model\n",
    "\n",
    "- **Name**: Python names are the closest abstraction to what other languages call variables. Names refer to objects and are introduced by name-binding operations.\n",
    "\n",
    "- **Namespace**: A namespace is a mapping from names to objects. Examples are the set of built-in names (containing functions that are always accessible in any Python program), the global names in a module, and the local names in a function. Even the set of attributes of an object can be considered a namespace."
   ]
  },
  {
   "cell_type": "markdown",
   "metadata": {},
   "source": [
    "Example:"
   ]
  },
  {
   "cell_type": "raw",
   "metadata": {
    "vscode": {
     "languageId": "raw"
    }
   },
   "source": [
    "from library.second_floor.section_x.row_three import book "
   ]
  },
  {
   "cell_type": "markdown",
   "metadata": {},
   "source": [
    "We start from the library namespace, and by means of the dot (.) operator, we walk into that namespace. Within this namespace, we look for second_floor and, again, we walk into it with the . operator. We then walk into section_x, and finally, within the last namespace, row_three, we find the name we were looking for: book."
   ]
  },
  {
   "cell_type": "markdown",
   "metadata": {},
   "source": [
    "- **Scope**: “A scope is a textual region of a Python program, where a namespace is directly accessible.” Scopes are determined statically, but at runtime, they are used dynamically. This means that by inspecting the source code, you can tell what the scope of an object is. There are four different scopes that Python makes accessible (not necessarily all of them are present at the same time, though):\n",
    "\n",
    "    i. The **local scope**, which is the innermost one and contains the local names.\n",
    "\n",
    "    ii. The **enclosing scope**; that is, the scope of any enclosing function. It contains non-local names and non-global names.\n",
    "\n",
    "    iii. The **global scope** contains the global names.\n",
    "\n",
    "    iv. The **built-in scope** contains the built-in names. Python comes with a set of functions that you can use in an off-the-shelf fashion, such as print, all, abs, and so on. They live in the built-in scope.\n",
    "    "
   ]
  },
  {
   "cell_type": "markdown",
   "metadata": {},
   "source": [
    "The rule is the following: when we refer to a name, Python starts looking for it in the current namespace. If the name is not found, Python continues the search in the enclosing scope, and this continues until the built-in scope is searched. \n",
    "\n",
    "The order in which the namespaces are scanned when looking for a name is therefore local, enclosing, global, built-in (LEGB)."
   ]
  },
  {
   "cell_type": "code",
   "execution_count": 9,
   "metadata": {},
   "outputs": [
    {
     "name": "stdout",
     "output_type": "stream",
     "text": [
      "7\n",
      "5\n"
     ]
    }
   ],
   "source": [
    "# scopes1.py\n",
    "# Local versus Global\n",
    "# we define a function, called local\n",
    "def local():\n",
    "    age = 7\n",
    "    print(age)\n",
    "# we define age within the global scope\n",
    "age = 5\n",
    "# we call, or `execute` the function local\n",
    "local()\n",
    "print(age)"
   ]
  },
  {
   "cell_type": "markdown",
   "metadata": {},
   "source": [
    "One particularly important thing to note is that **the part of the code that belongs to the definition of the local function is indented by four spaces on the right.** Python, in fact, defines scopes by indenting the code. You walk into a scope by indenting, and walk out of it by dedenting. "
   ]
  },
  {
   "cell_type": "code",
   "execution_count": 10,
   "metadata": {},
   "outputs": [
    {
     "name": "stdout",
     "output_type": "stream",
     "text": [
      "5 printing from the global scope\n",
      "5 printing from the local scope\n"
     ]
    }
   ],
   "source": [
    "# scopes2.py\n",
    "# Local versus Global\n",
    "def local():\n",
    "    # age does not belong to the scope defined by the local\n",
    "    # function so Python will keep looking into the next enclosing\n",
    "    # scope. age is finally found in the global scope.\n",
    "    print(age, 'printing from the local scope')\n",
    "age = 5\n",
    "print(age, 'printing from the global scope')\n",
    "local()\n"
   ]
  },
  {
   "cell_type": "code",
   "execution_count": 11,
   "metadata": {},
   "outputs": [
    {
     "name": "stdout",
     "output_type": "stream",
     "text": [
      "5 printing from the global scope\n",
      "13 printing from the local scope\n"
     ]
    }
   ],
   "source": [
    "# scopes3.py\n",
    "# Local, Enclosing and Global\n",
    "def enclosing_func():\n",
    "    age = 13\n",
    "    def local():\n",
    "        # age does not belong to the scope defined by the local\n",
    "        # function so Python will keep looking into the next\n",
    "        # enclosing scope. This time age is found in the enclosing\n",
    "        # scope\n",
    "        print(age, 'printing from the local scope')\n",
    "    # calling the function local\n",
    "    local()\n",
    "age = 5\n",
    "print(age, 'printing from the global scope')\n",
    "enclosing_func()"
   ]
  },
  {
   "cell_type": "markdown",
   "metadata": {},
   "source": [
    "As you can see, the print instruction from the local function is referring to age as before. age is still not defined within the function itself, so Python starts walking scopes following the LEGB order. This time, age is found in the enclosing scope."
   ]
  },
  {
   "cell_type": "markdown",
   "metadata": {},
   "source": [
    "## (7) Guidelines for writing good code\n",
    "\n",
    "A **Python Enhancement Proposal (PEP)** is a document that describes a newly proposed Python feature. PEPs are also used to document processes around Python language development and **to provide guidelines and information.** You can find an index of all PEPs at https://www.python.org/dev/peps.\n",
    "\n",
    "PEP 8 is perhaps the most famous of all PEPs. It lays out a simple but effective set of guidelines to define Python aesthetics so that we write beautiful, idiomatic Python code. If you take just one suggestion out of this chapter, please let it be this: use PEP 8. \n",
    "\n",
    "! Mercurial is another versionning tool, similar than Git. It takes only 2% of the market because its branching part is more confusing than Git (80% market share).\n",
    "https://www.perforce.com/blog/vcs/mercurial-vs-git-how-are-they-different#mercurial-01"
   ]
  },
  {
   "cell_type": "markdown",
   "metadata": {},
   "source": [
    "Python developers can leverage several different tools to automatically format their code, according to PEP 8 guidelines. Popular tools are *black* and *ruff*. There are also other tools, called linters, which check if the code is formatted correctly, and issue warnings to the developer with instructions on how to fix errors. Famous ones are flake8 and PyLint. We encourage you to use these tools, as they simplify the task of coding well-formatted software."
   ]
  },
  {
   "cell_type": "markdown",
   "metadata": {},
   "source": [
    "## (8) Python culture"
   ]
  },
  {
   "cell_type": "code",
   "execution_count": 12,
   "metadata": {},
   "outputs": [
    {
     "name": "stdout",
     "output_type": "stream",
     "text": [
      "The Zen of Python, by Tim Peters\n",
      "\n",
      "Beautiful is better than ugly.\n",
      "Explicit is better than implicit.\n",
      "Simple is better than complex.\n",
      "Complex is better than complicated.\n",
      "Flat is better than nested.\n",
      "Sparse is better than dense.\n",
      "Readability counts.\n",
      "Special cases aren't special enough to break the rules.\n",
      "Although practicality beats purity.\n",
      "Errors should never pass silently.\n",
      "Unless explicitly silenced.\n",
      "In the face of ambiguity, refuse the temptation to guess.\n",
      "There should be one-- and preferably only one --obvious way to do it.\n",
      "Although that way may not be obvious at first unless you're Dutch.\n",
      "Now is better than never.\n",
      "Although never is often better than *right* now.\n",
      "If the implementation is hard to explain, it's a bad idea.\n",
      "If the implementation is easy to explain, it may be a good idea.\n",
      "Namespaces are one honking great idea -- let's do more of those!\n"
     ]
    }
   ],
   "source": [
    "import this"
   ]
  },
  {
   "cell_type": "markdown",
   "metadata": {},
   "source": [
    "- !! **4 spaces indentation rule** !! Whatever text editor/IDE you use, when it comes to writing Python, indentation is four spaces. Do not use tabs, do not mix them with spaces. Use four spaces, not two, not three, not five. Just use four. The whole world works like that, and you do not want to become an outcast because you were fond of the three-space layout."
   ]
  },
  {
   "cell_type": "markdown",
   "metadata": {},
   "source": [
    "- **About coding with AI assistant**: The fact that there are instruments able to write pieces of code does not invalidate any of the reasons why one should learn a programming language. AI tools are far from being able to do what a person can do. They are not perfect, and at the time of writing, they are mostly used to help with repetitive and sometimes menial tasks."
   ]
  }
 ],
 "metadata": {
  "kernelspec": {
   "display_name": "py_prgm_ex",
   "language": "python",
   "name": "python3"
  },
  "language_info": {
   "codemirror_mode": {
    "name": "ipython",
    "version": 3
   },
   "file_extension": ".py",
   "mimetype": "text/x-python",
   "name": "python",
   "nbconvert_exporter": "python",
   "pygments_lexer": "ipython3",
   "version": "3.13.2"
  }
 },
 "nbformat": 4,
 "nbformat_minor": 2
}
