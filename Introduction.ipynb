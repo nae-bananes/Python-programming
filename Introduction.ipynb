{
 "cells": [
  {
   "cell_type": "markdown",
   "metadata": {},
   "source": [
    "# 1. Introduction to Programming"
   ]
  },
  {
   "cell_type": "markdown",
   "metadata": {},
   "source": [
    "## (1) Python programming and OOP\n",
    "\n",
    "**The two key features any object has are properties and methods.** Let us take the example of a person as an object. Typically, in a computer program, you will represent people as customers or employees. The properties that you store against them are things like a name, a social security number, an age, whether they have a driving license, an email, and so on. In a computer program, you store all the data needed in order to use an object for the purpose that needs to be served. \n",
    "\n",
    "So, **properties are characteristics of an object.**\n",
    "\n",
    "**Methods are actions that an object can perform.** As a person, I have methods such as speak, walk, sleep, wake up, eat, dream, write, read, and so on. All the things that I can do could be seen as methods of the objects that represent me.\n",
    "\n",
    "“Objects are Python’s abstraction for data. All data in a Python program is represented by objects or by relations between objects.”\n",
    "\n",
    "Every object in Python has an **ID (or identity), a type, and a value**.\n",
    "\n",
    "Object-Oriented Programming (OOP) is just one of many programming paradigms. In Python, we can write code using a functional or imperative style, as well as object-oriented. However, as we previously stated, **everything in Python is an object, therefore we employ them all the time, regardless of the chosen coding style.**\n",
    "\n",
    "- Mutability:  The value of some objects can change. Such objects are said to be mutable. If the value cannot be changed, the object is said to be immutable.\n"
   ]
  },
  {
   "cell_type": "markdown",
   "metadata": {},
   "source": [
    "## (2) Advantages of Python as programming language\n",
    "\n",
    "- Portability: adaptability for different OS\n",
    "- Coherence: a language which is logical and coherent for guessing the methods even not knowing \n",
    "- Productivity: more efficient code than Java or C++. Needs 1/5 or 1/3 of codes for the same job done, without compilation and linkage steps. \n",
    "- Extensive library: access to Python international community's resources, Python Package Index (PyPI) open-source resources.\n",
    "- Software multiparadigm: OOP, scripting, imperative programming and functional programming styles all possible in Python\n",
    "- A powerful Data Science tool \n",
    "- Satisfaction and enjoyment: Python makes coding fun"
   ]
  },
  {
   "cell_type": "markdown",
   "metadata": {},
   "source": [
    "# (3) Drawbacks of Python as programming language\n",
    "\n",
    "- Execution speed, increased runtime: slower than other compiled programming languages. \n",
    "<-> This speed loss is compensated by the time gained for I/O operations's completion. And nowadays with the aid of parallelizing tasks, it becomes faster. \n",
    "<-> We can still switch to faster Python implementations such as PyPy - it is also used by libraries as pandas and NumPy. (List of Alternative Python implementations, other than PyPy: https://www.python.org/download/alternatives/. We will use CPython implementation here)."
   ]
  }
 ],
 "metadata": {
  "language_info": {
   "name": "python"
  }
 },
 "nbformat": 4,
 "nbformat_minor": 2
}
